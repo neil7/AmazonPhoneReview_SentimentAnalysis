{
 "cells": [
  {
   "cell_type": "markdown",
   "metadata": {
    "id": "ebm8DOr519uL"
   },
   "source": [
    "# Amazon Phone Reviews Analysis\n",
    "\n",
    "\n",
    "Data Source: https://www.kaggle.com/grikomsn/amazon-cell-phones-reviews <br>\n",
    "\n",
    "\n",
    "Attribute Information:\n",
    "\n",
    "1. asin - unique id of product\n",
    "2. brand - Product Brand\n",
    "3. verified - Valid Customer\n",
    "4. Name - Reviewer Name\n",
    "5. HelpfulVotes - Helpful Feedbacks\n",
    "6. rating - rating between 1 and 5\n",
    "7. Date - date of the review\n",
    "8. title - brief summary of the review\n",
    "9. body - text of the review\n",
    "10. price - Product Price ($)\n",
    "\n",
    "\n",
    "#### Objective:\n",
    "Given a review, determine whether the review is positive (Rating of 4 or 5) or negative (rating of 1 or 2)."
   ]
  },
  {
   "cell_type": "markdown",
   "metadata": {
    "id": "3axpLA_c19uL"
   },
   "source": [
    "# 1- Loading the data\n",
    "\n",
    "The dataset is available in two forms\n",
    "1. .csv file"
   ]
  },
  {
   "cell_type": "code",
   "execution_count": 26,
   "metadata": {
    "id": "bH2IrAjQ19uL"
   },
   "outputs": [],
   "source": [
    "#to ignore warnings and have the plot\n",
    "%matplotlib inline\n",
    "import warnings\n",
    "warnings.filterwarnings(\"ignore\")\n",
    "\n",
    "\n",
    "#to fetch data from sqlite file\n",
    "import sqlite3\n",
    "#for preprocessing use the pandas dataframe\n",
    "import pandas as pd\n",
    "#numpy to feed to the algorithms\n",
    "import numpy as np\n",
    "#nltk for language related tasks\n",
    "import nltk\n",
    "#don't know why id imported this\n",
    "import string\n",
    "#for plotting\n",
    "import matplotlib.pyplot as plt\n",
    "import seaborn as sns\n",
    "\n",
    "#sklearn for feature transformer\n",
    "from sklearn.feature_extraction.text import TfidfTransformer\n",
    "from sklearn.feature_extraction.text import TfidfVectorizer\n",
    "from sklearn.feature_extraction.text import CountVectorizer\n",
    "from sklearn.metrics import confusion_matrix\n",
    "from sklearn import metrics\n",
    "\n",
    "#another metric to measure the performance of the model\n",
    "from sklearn.metrics import roc_curve, auc\n",
    "#stemming technique\n",
    "from nltk.stem.porter import PorterStemmer\n",
    "\n",
    "\n",
    "# Tutorial about Python regular expressions: https://pymotw.com/2/re/\n",
    "import string\n",
    "from nltk.corpus import stopwords\n",
    "from nltk.stem import PorterStemmer\n",
    "from nltk.stem.wordnet import WordNetLemmatizer\n",
    "\n",
    "#word2 vec models\n",
    "from gensim.models import Word2Vec\n",
    "from gensim.models import KeyedVectors\n",
    "\n",
    "#to store and save the model\n",
    "import pickle\n",
    "\n",
    "#tqdm is to get the nice progress bar on loops\n",
    "from tqdm import tqdm\n",
    "import os\n",
    "\n"
   ]
  },
  {
   "cell_type": "code",
   "execution_count": 3,
   "metadata": {
    "colab": {
     "base_uri": "https://localhost:8080/",
     "height": 692
    },
    "id": "Vj_OW0Mm19uL",
    "outputId": "78672d62-d80f-4b49-8154-3ec4376bd8cd"
   },
   "outputs": [
    {
     "name": "stdout",
     "output_type": "stream",
     "text": [
      "5    37752\n",
      "1    12743\n",
      "4     8824\n",
      "3     4752\n",
      "2     3915\n",
      "Name: rating, dtype: int64\n",
      "Number of data points in our data (63213, 8)\n"
     ]
    },
    {
     "data": {
      "text/html": [
       "<div>\n",
       "<style scoped>\n",
       "    .dataframe tbody tr th:only-of-type {\n",
       "        vertical-align: middle;\n",
       "    }\n",
       "\n",
       "    .dataframe tbody tr th {\n",
       "        vertical-align: top;\n",
       "    }\n",
       "\n",
       "    .dataframe thead th {\n",
       "        text-align: right;\n",
       "    }\n",
       "</style>\n",
       "<table border=\"1\" class=\"dataframe\">\n",
       "  <thead>\n",
       "    <tr style=\"text-align: right;\">\n",
       "      <th></th>\n",
       "      <th>asin</th>\n",
       "      <th>name</th>\n",
       "      <th>rating</th>\n",
       "      <th>date</th>\n",
       "      <th>verified</th>\n",
       "      <th>title</th>\n",
       "      <th>body</th>\n",
       "      <th>helpfulVotes</th>\n",
       "    </tr>\n",
       "  </thead>\n",
       "  <tbody>\n",
       "    <tr>\n",
       "      <th>1</th>\n",
       "      <td>B0000SX2UC</td>\n",
       "      <td>Luke Wyatt</td>\n",
       "      <td>0.0</td>\n",
       "      <td>January 7, 2004</td>\n",
       "      <td>False</td>\n",
       "      <td>Text Messaging Doesn't Work</td>\n",
       "      <td>Due to a software issue between Nokia and Spri...</td>\n",
       "      <td>17.0</td>\n",
       "    </tr>\n",
       "    <tr>\n",
       "      <th>2</th>\n",
       "      <td>B0000SX2UC</td>\n",
       "      <td>Brooke</td>\n",
       "      <td>1.0</td>\n",
       "      <td>December 30, 2003</td>\n",
       "      <td>False</td>\n",
       "      <td>Love This Phone</td>\n",
       "      <td>This is a great, reliable phone. I also purcha...</td>\n",
       "      <td>5.0</td>\n",
       "    </tr>\n",
       "    <tr>\n",
       "      <th>4</th>\n",
       "      <td>B0000SX2UC</td>\n",
       "      <td>tristazbimmer</td>\n",
       "      <td>1.0</td>\n",
       "      <td>August 28, 2005</td>\n",
       "      <td>False</td>\n",
       "      <td>Great phone service and options, lousy case!</td>\n",
       "      <td>The phone has been great for every purpose it ...</td>\n",
       "      <td>1.0</td>\n",
       "    </tr>\n",
       "    <tr>\n",
       "      <th>5</th>\n",
       "      <td>B0000SX2UC</td>\n",
       "      <td>J. White</td>\n",
       "      <td>1.0</td>\n",
       "      <td>September 25, 2005</td>\n",
       "      <td>False</td>\n",
       "      <td>Worked great for me</td>\n",
       "      <td>Hello, I have this phone and used it until I d...</td>\n",
       "      <td>NaN</td>\n",
       "    </tr>\n",
       "    <tr>\n",
       "      <th>6</th>\n",
       "      <td>B0000SX2UC</td>\n",
       "      <td>the cell phone store owner</td>\n",
       "      <td>1.0</td>\n",
       "      <td>April 16, 2004</td>\n",
       "      <td>False</td>\n",
       "      <td>Wanna cool Nokia? You have it here!</td>\n",
       "      <td>Cool. Cheap. Color: 3 words that describe the ...</td>\n",
       "      <td>2.0</td>\n",
       "    </tr>\n",
       "  </tbody>\n",
       "</table>\n",
       "</div>"
      ],
      "text/plain": [
       "         asin  ... helpfulVotes\n",
       "1  B0000SX2UC  ...         17.0\n",
       "2  B0000SX2UC  ...          5.0\n",
       "4  B0000SX2UC  ...          1.0\n",
       "5  B0000SX2UC  ...          NaN\n",
       "6  B0000SX2UC  ...          2.0\n",
       "\n",
       "[5 rows x 8 columns]"
      ]
     },
     "execution_count": 3,
     "metadata": {
      "tags": []
     },
     "output_type": "execute_result"
    },
    {
     "data": {
      "image/png": "[encoded data removed]",
      "text/plain": [
       "<Figure size 432x288 with 1 Axes>"
      ]
     },
     "metadata": {
      "tags": []
     },
     "output_type": "display_data"
    }
   ],
   "source": [
    "dtPhoneList = pd.read_csv(\"20191226-items.csv\",sep=',')\n",
    "all_review = pd.read_csv(\"20191226-reviews.csv\", sep=',')\n",
    "\n",
    "#plotting the reviews based on the original distribution\n",
    "import seaborn as sns\n",
    "sns.set(style=\"darkgrid\")\n",
    "#make count plots of all the data \n",
    "ax = sns.countplot(x=\"rating\", data=all_review)\n",
    "ax.set_title('total reviews:'+str(all_review.shape[0]))\n",
    "\n",
    "#filtering only the data with positive and negative reviews just remove the 3 star rating reviews because the really\n",
    "#dont help \n",
    "\n",
    "print(all_review['rating'].value_counts())\n",
    "\n",
    "def num_toLabels(value):\n",
    "    if value < 3:\n",
    "        return int(0)\n",
    "    if value >= 4:\n",
    "        return int(1)\n",
    "    \n",
    "filtered_data = all_review\n",
    "#changing reviews with score less than 3 to be negative and vice-versa\n",
    "actualScore = filtered_data['rating']\n",
    "\n",
    "positiveNegative = actualScore.map(num_toLabels) \n",
    "\n",
    "#now score become 1 or 0 ==> (1 for 4 or 5 stars || and 0 for 1 or 2 stars)\n",
    "filtered_data['rating'] = positiveNegative #replace this as the actual column\n",
    "\n",
    "\n",
    "\n",
    "filtered_data = filtered_data.dropna(subset=['rating', 'body'])\n",
    "\n",
    "print(\"Number of data points in our data\", filtered_data.shape)\n",
    "\n",
    "filtered_data.head()\n",
    "\n",
    "\n",
    "# # 2- preprocessing to clean the data \n",
    "\n",
    "# ## Select the duplicate rows and remove them if they occur in the data "
   ]
  },
  {
   "cell_type": "markdown",
   "metadata": {
    "id": "tnVVtmyU19uM"
   },
   "source": [
    "# 2- preprocessing to clean the data "
   ]
  },
  {
   "cell_type": "code",
   "execution_count": 4,
   "metadata": {
    "id": "mLXFKtEK19uM"
   },
   "outputs": [],
   "source": [
    "#Sorting data according to ProductId in ascending order\n",
    "#sort the table with the product id column \n",
    "#axis 0 means that we want to sort row wise on the column selected\n",
    "#sorting algorithm is quick sort\n",
    "#we want to sort ascendingly\n",
    "#we can also place NANs in the end to make sure that we have ended\n",
    "#inplace basically means we don't wanna override the actual data \n",
    "\n",
    "sorted_data=filtered_data.sort_values('asin', \n",
    "                                      axis=0, \n",
    "                                      ascending=True, \n",
    "                                      inplace=False, \n",
    "                                      kind='quicksort',\n",
    "                                      na_position='last')"
   ]
  },
  {
   "cell_type": "code",
   "execution_count": 5,
   "metadata": {
    "colab": {
     "base_uri": "https://localhost:8080/",
     "height": 289
    },
    "id": "P5OAIBHC19uM",
    "outputId": "d6dc8548-b31b-46e1-ac6c-1c4e08491425"
   },
   "outputs": [
    {
     "data": {
      "text/html": [
       "<div>\n",
       "<style scoped>\n",
       "    .dataframe tbody tr th:only-of-type {\n",
       "        vertical-align: middle;\n",
       "    }\n",
       "\n",
       "    .dataframe tbody tr th {\n",
       "        vertical-align: top;\n",
       "    }\n",
       "\n",
       "    .dataframe thead th {\n",
       "        text-align: right;\n",
       "    }\n",
       "</style>\n",
       "<table border=\"1\" class=\"dataframe\">\n",
       "  <thead>\n",
       "    <tr style=\"text-align: right;\">\n",
       "      <th></th>\n",
       "      <th>asin</th>\n",
       "      <th>name</th>\n",
       "      <th>rating</th>\n",
       "      <th>date</th>\n",
       "      <th>verified</th>\n",
       "      <th>title</th>\n",
       "      <th>body</th>\n",
       "      <th>helpfulVotes</th>\n",
       "    </tr>\n",
       "  </thead>\n",
       "  <tbody>\n",
       "    <tr>\n",
       "      <th>67948</th>\n",
       "      <td>B081H6STQQ</td>\n",
       "      <td>Geraldo f.</td>\n",
       "      <td>1.0</td>\n",
       "      <td>August 17, 2019</td>\n",
       "      <td>True</td>\n",
       "      <td>Sony Xperia 1</td>\n",
       "      <td>Sorry, this video is unsupported on this brows...</td>\n",
       "      <td>NaN</td>\n",
       "    </tr>\n",
       "    <tr>\n",
       "      <th>67949</th>\n",
       "      <td>B081H6STQQ</td>\n",
       "      <td>Alejandro Moreno</td>\n",
       "      <td>1.0</td>\n",
       "      <td>October 16, 2019</td>\n",
       "      <td>True</td>\n",
       "      <td>Great phone</td>\n",
       "      <td>Overall this phone is perfect for what I need ...</td>\n",
       "      <td>NaN</td>\n",
       "    </tr>\n",
       "    <tr>\n",
       "      <th>67938</th>\n",
       "      <td>B081H6STQQ</td>\n",
       "      <td>kunfusion84</td>\n",
       "      <td>1.0</td>\n",
       "      <td>November 11, 2019</td>\n",
       "      <td>True</td>\n",
       "      <td>Sony shines again</td>\n",
       "      <td>I absolutely love this phone!! Sony rarely dis...</td>\n",
       "      <td>2.0</td>\n",
       "    </tr>\n",
       "    <tr>\n",
       "      <th>67984</th>\n",
       "      <td>B081TJFVCJ</td>\n",
       "      <td>Tobiasz Jedrysiak</td>\n",
       "      <td>1.0</td>\n",
       "      <td>December 24, 2019</td>\n",
       "      <td>True</td>\n",
       "      <td>Phone is like new</td>\n",
       "      <td>Product looks and works like new. Very much re...</td>\n",
       "      <td>NaN</td>\n",
       "    </tr>\n",
       "    <tr>\n",
       "      <th>67985</th>\n",
       "      <td>B0825BB7SG</td>\n",
       "      <td>Owen Gonzalez</td>\n",
       "      <td>1.0</td>\n",
       "      <td>December 11, 2019</td>\n",
       "      <td>False</td>\n",
       "      <td>Outstanding phone for the price</td>\n",
       "      <td>I love the size and style of this phone. It is...</td>\n",
       "      <td>NaN</td>\n",
       "    </tr>\n",
       "  </tbody>\n",
       "</table>\n",
       "</div>"
      ],
      "text/plain": [
       "             asin  ... helpfulVotes\n",
       "67948  B081H6STQQ  ...          NaN\n",
       "67949  B081H6STQQ  ...          NaN\n",
       "67938  B081H6STQQ  ...          2.0\n",
       "67984  B081TJFVCJ  ...          NaN\n",
       "67985  B0825BB7SG  ...          NaN\n",
       "\n",
       "[5 rows x 8 columns]"
      ]
     },
     "execution_count": 5,
     "metadata": {
      "tags": []
     },
     "output_type": "execute_result"
    }
   ],
   "source": [
    "sorted_data.tail(5)"
   ]
  },
  {
   "cell_type": "code",
   "execution_count": 6,
   "metadata": {
    "colab": {
     "base_uri": "https://localhost:8080/"
    },
    "id": "9n3PcehY19uM",
    "outputId": "f1322f6f-450c-4b62-a8ff-d736d9974def"
   },
   "outputs": [
    {
     "data": {
      "text/plain": [
       "(62439, 8)"
      ]
     },
     "execution_count": 6,
     "metadata": {
      "tags": []
     },
     "output_type": "execute_result"
    }
   ],
   "source": [
    "#sorting makes removal of duplicates slightly faster\n",
    "#we want to remove the places that have the same \"UserId\",\"ProfileName\",\"Time\",\"Text\"\n",
    "#Deduplication of entries\n",
    "final=sorted_data.drop_duplicates(subset={\"asin\",\"body\"}, keep='first', inplace=False)\n",
    "final.shape\n",
    "#as we can now see we are down with 364k reviews from 525K reviews"
   ]
  },
  {
   "cell_type": "code",
   "execution_count": 7,
   "metadata": {
    "colab": {
     "base_uri": "https://localhost:8080/",
     "height": 301
    },
    "id": "ukFzD-gK19uM",
    "outputId": "f884f86d-a50c-44b4-d399-5e6654bca356"
   },
   "outputs": [
    {
     "data": {
      "image/png": "[encoded data removed]",
      "text/plain": [
       "<Figure size 432x288 with 1 Axes>"
      ]
     },
     "metadata": {
      "tags": []
     },
     "output_type": "display_data"
    }
   ],
   "source": [
    "#How many positive and negative reviews are present in our dataset?\n",
    "final = final.rename(columns={\"rating\": \"Score\", \"body\": \"Text\"})\n",
    "final[\"Score\"].value_counts() #gives the value counts of the positive and negative review seperation\n",
    "\n",
    "#plotting the downsampled reviews to only positive and negative\n",
    "sns.set(style=\"darkgrid\")\n",
    "#make count plots of all the data \n",
    "sns.countplot(x='Score', data=final, palette='RdBu')\n",
    "plt.xlabel('Classification')\n",
    "plt.title(\"preprocessed reviews\")\n",
    "plt.show()\n",
    "\n",
    "\n",
    "# #let's see what the table looks like\n",
    "# \n",
    "# \n",
    "# y_tr=final[\"Score\"].values\n",
    "# row=y_tr.shape[0]\n",
    "# y_tr=y_tr.reshape(row,1)\n",
    "# print(y_tr.shape)\n",
    "# joblib.dump(y_tr,\"y_labels_enw2v_e2v.pkl\")\n",
    "# \n",
    "# #use this to save the y_labels\n",
    "# #y_labels=final[\"Score\"]"
   ]
  },
  {
   "cell_type": "code",
   "execution_count": 8,
   "metadata": {
    "colab": {
     "base_uri": "https://localhost:8080/",
     "height": 221
    },
    "id": "dGupQSPp19uM",
    "outputId": "50e00549-ad05-4341-cfb6-a9f98e0c5264"
   },
   "outputs": [
    {
     "name": "stdout",
     "output_type": "stream",
     "text": [
      "(62439, 1)\n"
     ]
    },
    {
     "data": {
      "text/html": [
       "<div>\n",
       "<style scoped>\n",
       "    .dataframe tbody tr th:only-of-type {\n",
       "        vertical-align: middle;\n",
       "    }\n",
       "\n",
       "    .dataframe tbody tr th {\n",
       "        vertical-align: top;\n",
       "    }\n",
       "\n",
       "    .dataframe thead th {\n",
       "        text-align: right;\n",
       "    }\n",
       "</style>\n",
       "<table border=\"1\" class=\"dataframe\">\n",
       "  <thead>\n",
       "    <tr style=\"text-align: right;\">\n",
       "      <th></th>\n",
       "      <th>Score</th>\n",
       "      <th>Text</th>\n",
       "    </tr>\n",
       "  </thead>\n",
       "  <tbody>\n",
       "    <tr>\n",
       "      <th>1</th>\n",
       "      <td>0.0</td>\n",
       "      <td>Due to a software issue between Nokia and Spri...</td>\n",
       "    </tr>\n",
       "    <tr>\n",
       "      <th>2</th>\n",
       "      <td>1.0</td>\n",
       "      <td>This is a great, reliable phone. I also purcha...</td>\n",
       "    </tr>\n",
       "    <tr>\n",
       "      <th>4</th>\n",
       "      <td>1.0</td>\n",
       "      <td>The phone has been great for every purpose it ...</td>\n",
       "    </tr>\n",
       "    <tr>\n",
       "      <th>5</th>\n",
       "      <td>1.0</td>\n",
       "      <td>Hello, I have this phone and used it until I d...</td>\n",
       "    </tr>\n",
       "    <tr>\n",
       "      <th>6</th>\n",
       "      <td>1.0</td>\n",
       "      <td>Cool. Cheap. Color: 3 words that describe the ...</td>\n",
       "    </tr>\n",
       "  </tbody>\n",
       "</table>\n",
       "</div>"
      ],
      "text/plain": [
       "   Score                                               Text\n",
       "1    0.0  Due to a software issue between Nokia and Spri...\n",
       "2    1.0  This is a great, reliable phone. I also purcha...\n",
       "4    1.0  The phone has been great for every purpose it ...\n",
       "5    1.0  Hello, I have this phone and used it until I d...\n",
       "6    1.0  Cool. Cheap. Color: 3 words that describe the ..."
      ]
     },
     "execution_count": 8,
     "metadata": {
      "tags": []
     },
     "output_type": "execute_result"
    }
   ],
   "source": [
    "import joblib\n",
    "y_tr=final[\"Score\"].values \n",
    "row=y_tr.shape[0] \n",
    "y_tr=y_tr.reshape(row,1) \n",
    "print(y_tr.shape) \n",
    "joblib.dump(y_tr,\"y_labels_enw2v_e2v.pkl\")\n",
    "new = final[['Score','Text']]\n",
    "new.to_csv(\"amzn_mobile_reviews.csv\")\n",
    "new.head()"
   ]
  },
  {
   "cell_type": "code",
   "execution_count": 9,
   "metadata": {
    "id": "A5jsfvKY19uM"
   },
   "outputs": [],
   "source": [
    "# https://gist.github.com/sebleier/554280\n",
    "# we are removing the words from the stop words list: 'no', 'nor', 'not' #because these are cruicial bit of information\n",
    "# <br /><br /> ==> after the above steps, we are getting \"br br\"\n",
    "# we are including them into stop words list\n",
    "# instead of <br /> if we have <br/> these tags would have revmoved in the 1st step\n",
    "\n",
    "stopwords= set(['br', 'the', 'i', 'me', 'my', 'myself', 'we', 'our', 'ours', 'ourselves', 'you', \"you're\", \"you've\",\\\n",
    "            \"you'll\", \"you'd\", 'your', 'yours', 'yourself', 'yourselves', 'he', 'him', 'his', 'himself', \\\n",
    "            'she', \"she's\", 'her', 'hers', 'herself', 'it', \"it's\", 'its', 'itself', 'they', 'them', 'their',\\\n",
    "            'theirs', 'themselves', 'what', 'which', 'who', 'whom', 'this', 'that', \"that'll\", 'these', 'those', \\\n",
    "            'am', 'is', 'are', 'was', 'were', 'be', 'been', 'being', 'have', 'has', 'had', 'having', 'do', 'does', \\\n",
    "            'did', 'doing', 'a', 'an', 'the', 'and', 'but', 'if', 'or', 'because', 'as', 'until', 'while', 'of', \\\n",
    "            'at', 'by', 'for', 'with', 'about', 'against', 'between', 'into', 'through', 'during', 'before', 'after',\\\n",
    "            'above', 'below', 'to', 'from', 'up', 'down', 'in', 'out', 'on', 'off', 'over', 'under', 'again', 'further',\\\n",
    "            'then', 'once', 'here', 'there', 'when', 'where', 'why', 'how', 'all', 'any', 'both', 'each', 'few', 'more',\\\n",
    "            'most', 'other', 'some', 'such', 'only', 'own', 'same', 'so', 'than', 'too', 'very', \\\n",
    "            's', 't', 'can', 'will', 'just', 'don', \"don't\", 'should', \"should've\", 'now', 'd', 'll', 'm', 'o', 're', \\\n",
    "            've', 'y', 'ain', 'aren', \"aren't\", 'couldn', \"couldn't\", 'didn', \"didn't\", 'doesn', \"doesn't\", 'hadn',\\\n",
    "            \"hadn't\", 'hasn', \"hasn't\", 'haven', \"haven't\", 'isn', \"isn't\", 'ma', 'mightn', \"mightn't\", 'mustn',\\\n",
    "            \"mustn't\", 'needn', \"needn't\", 'shan', \"shan't\", 'shouldn', \"shouldn't\", 'wasn', \"wasn't\", 'weren', \"weren't\", \\\n",
    "            'won', \"won't\", 'wouldn', \"wouldn't\"])\n"
   ]
  },
  {
   "cell_type": "code",
   "execution_count": 10,
   "metadata": {
    "colab": {
     "base_uri": "https://localhost:8080/"
    },
    "id": "QIJEsBY_19uM",
    "outputId": "0aef2359-4b4b-42d3-f400-c7af9e53ec39"
   },
   "outputs": [
    {
     "name": "stdout",
     "output_type": "stream",
     "text": [
      "Collecting emoji\n",
      "\u001b[?25l  Downloading https://files.pythonhosted.org/packages/ff/1c/1f1457fe52d0b30cbeebfd578483cedb3e3619108d2d5a21380dfecf8ffd/emoji-0.6.0.tar.gz (51kB)\n",
      "\r",
      "\u001b[K     |██████▍                         | 10kB 24.4MB/s eta 0:00:01\r",
      "\u001b[K     |████████████▉                   | 20kB 29.2MB/s eta 0:00:01\r",
      "\u001b[K     |███████████████████▎            | 30kB 25.0MB/s eta 0:00:01\r",
      "\u001b[K     |█████████████████████████▊      | 40kB 18.2MB/s eta 0:00:01\r",
      "\u001b[K     |████████████████████████████████| 51kB 6.7MB/s \n",
      "\u001b[?25hBuilding wheels for collected packages: emoji\n",
      "  Building wheel for emoji (setup.py) ... \u001b[?25l\u001b[?25hdone\n",
      "  Created wheel for emoji: filename=emoji-0.6.0-cp36-none-any.whl size=49716 sha256=df582d1d0596466dc4e71cd0581c55eb8f48742c6f967f97fbeeac3d951cfbdb\n",
      "  Stored in directory: /root/.cache/pip/wheels/46/2c/8b/9dcf5216ca68e14e0320e283692dce8ae321cdc01e73e17796\n",
      "Successfully built emoji\n",
      "Installing collected packages: emoji\n",
      "Successfully installed emoji-0.6.0\n"
     ]
    },
    {
     "name": "stderr",
     "output_type": "stream",
     "text": [
      "100%|██████████| 62439/62439 [00:18<00:00, 3348.65it/s]"
     ]
    },
    {
     "name": "stdout",
     "output_type": "stream",
     "text": [
      "[156, 157, 161, 504, 853, 1766, 3119, 3583, 3591, 4360, 4878, 6292, 6659, 6889, 6922, 7448, 7831, 8005, 8024, 8688, 8692, 9110, 9605, 9858, 9879, 9888, 10019, 10181, 10297, 10404, 10595, 10649, 10869, 11099, 11277, 11305, 11637, 11748, 11844, 11912, 12026, 12045, 12178, 12187, 12812, 12902, 12968, 13121, 13130, 13256, 13315, 13335, 13492, 13496, 13734, 13824, 14037, 14093, 14119, 14131, 14192, 14336, 14372, 14518, 14674, 14853, 14953, 14961, 14987, 15142, 15300, 15309, 15630, 15662, 15909, 15997, 16109, 16230, 16336, 16389, 16543, 16685, 16807, 16884, 17071, 17185, 17425, 17513, 17626, 17746, 17851, 17905, 17952, 18459, 18545, 18718, 19045, 19140, 19234, 19338, 19702, 19793, 19832, 19849, 19890, 20128, 20179, 20181, 20251, 20303, 20353, 20570, 20934, 21044, 21211, 21431, 21503, 21527, 21550, 21569, 21586, 21653, 21768, 21837, 21851, 21937, 22004, 22061, 22226, 22412, 22622, 22686, 22699, 22747, 22769, 23173, 23247, 23491, 23517, 23594, 23601, 23606, 23792, 23850, 23855, 23959, 24006, 24010, 24095, 24113, 24208, 24680, 24695, 24765, 24852, 25002, 25089, 25136, 25205, 25305, 25349, 25530, 25715, 25771, 25773, 25936, 26097, 26265, 26273, 26310, 26367, 26419, 26639, 26642, 26663, 26817, 26832, 26868, 26969, 26979, 27151, 27153, 27163, 27224, 27299, 27343, 27412, 27505, 27594, 27597, 27643, 27646, 27648, 27658, 27664, 27764, 27893, 27970, 28040, 28134, 28159, 28238, 28247, 28392, 28397, 28425, 28524, 28544, 28552, 28577, 28578, 28613, 28639, 28664, 28698, 28714, 28760, 28767, 28784, 28874, 29036, 29103, 29137, 29240, 29273, 29408, 29440, 29457, 29460, 29658, 29662, 29665, 29681, 29682, 29688, 29698, 29711, 29745, 29749, 29784, 29825, 29847, 29859, 29863, 29864, 29910, 29995, 30021, 30504, 30517, 30532, 30570, 30599, 30810, 30837, 30988, 31245, 31268, 31336, 31569, 31573, 31599, 31698, 31750, 31816, 31829, 31831, 32094, 32118, 32255, 32342, 32382, 32442, 32488, 32491, 32552, 32558, 32680, 32685, 32794, 32838, 33055, 33067, 33123, 33229, 33267, 33301, 33375, 33669, 33791, 34140, 34235, 34346, 34377, 34392, 34394, 34482, 34497, 34521, 34587, 34596, 34598, 34641, 34689, 34735, 34766, 34787, 35100, 35243, 35272, 35311, 35429, 35504, 35522, 35534, 35540, 36043, 36086, 36112, 36142, 36265, 36287, 36318, 36356, 36405, 36416, 36549, 36596, 36711, 36846, 36924, 36996, 37179, 37204, 37212, 37260, 37263, 37318, 37327, 37556, 37729, 37752, 37774, 38082, 38229, 38246, 38270, 38272, 38332, 38372, 38420, 38424, 38442, 38451, 38452, 38539, 38557, 38610, 38639, 38669, 38739, 38943, 38947, 38955, 38974, 39114, 39144, 39204, 39439, 39448, 39451, 39625, 39640, 39677, 39824, 39874, 39885, 39915, 39967, 40058, 40082, 40120, 40153, 40626, 40633, 40651, 40684, 40748, 40957, 40959, 40973, 40984, 41008, 41044, 41077, 41109, 41140, 41182, 41187, 41203, 41346, 41465, 41666, 41680, 41709, 41784, 41989, 42024, 42551, 42670, 42721, 42804, 43044, 43061, 43165, 43287, 43326, 43338, 43339, 43444, 43457, 43514, 43592, 43721, 43889, 43894, 44021, 44033, 44059, 44094, 44097, 44128, 44275, 44294, 44305, 44397, 44542, 44559, 44583, 44585, 44654, 44776, 44827, 44962, 44977, 45010, 45049, 45118, 45151, 45197, 45272, 45668, 45718, 45796, 45861, 45941, 46078, 46215, 46460, 46506, 46592, 46646, 46883, 46887, 46915, 46918, 46935, 46972, 46993, 46996, 47225, 47296, 47489, 47778, 47925, 47928, 47930, 47957, 47969, 47975, 48127, 48133, 48139, 48270, 48307, 48316, 48452, 48611, 48617, 48619, 48622, 48661, 48669, 48678, 48701, 48750, 48767, 48947, 48954, 49135, 49155, 49215, 49237, 49257, 49277, 49329, 49499, 49726, 49731, 49764, 49876, 49924, 49949, 49970, 49974, 49980, 49981, 50020, 50170, 50185, 50247, 50434, 50506, 50631, 50638, 50645, 50737, 50741, 50744, 50755, 50756, 50783, 50799, 50837, 50861, 50900, 51054, 51743, 51746, 51794, 52095, 52191, 52535, 52568, 52629, 52673, 52808, 52869, 53003, 53081, 53091, 53115, 53125, 53353, 53369, 53382, 53528, 53594, 53748, 53759, 53871, 53873, 53991, 54107, 54137, 54148, 54152, 54177, 54183, 54203, 54210, 54235, 54278, 54303, 54375, 54479, 54537, 54653, 54720, 54841, 54855, 54902, 54925, 54938, 54981, 55134, 55146, 55148, 55159, 55199, 55205, 55215, 55255, 55276, 55368, 55381, 55410, 55556, 55688, 55714, 55776, 55783, 56014, 56083, 56264, 56325, 56340, 56352, 56364, 56388, 56479, 56621, 56825, 56847, 56864, 56903, 57162, 57276, 57303, 57324, 57329, 57392, 57396, 57444, 57475, 57571, 57589, 57658, 57800, 57805, 57808, 57819, 57820, 57836, 57864, 57900, 57924, 58207, 58263, 58329, 58350, 58358, 58483, 58486, 58490, 58630, 58792, 58799, 58835, 58859, 58953, 59017, 59028, 59109, 59181, 59217, 59247, 59278, 59352, 59409, 59422, 59513, 59601, 59677, 59803, 59951, 59962, 59976, 60008, 60023, 60082, 60090, 60145, 60160, 60224, 60243, 60351, 60361, 60366, 60550, 60568, 60833, 61149, 61369, 61409, 61435, 61458, 61471, 61583, 61611, 61728, 61824, 61916, 61918, 61973, 62141, 62145, 62206, 62224, 62243, 62327, 62405]\n"
     ]
    },
    {
     "name": "stderr",
     "output_type": "stream",
     "text": [
      "\n"
     ]
    }
   ],
   "source": [
    "# Combining all the above stundents\n",
    "!pip install emoji\n",
    "import re\n",
    "\n",
    "from bs4 import BeautifulSoup\n",
    "\n",
    "def decontracted(phrase):\n",
    "    \"\"\"substitute stop words\"\"\"\n",
    "    \n",
    "    # specific\n",
    "    phrase = re.sub(r\"won't\", \"will not\", phrase)\n",
    "    phrase = re.sub(r\"can\\'t\", \"can not\", phrase)\n",
    "\n",
    "    # general\n",
    "    phrase = re.sub(r\"n\\'t\", \" not\", phrase)\n",
    "    phrase = re.sub(r\"\\'re\", \" are\", phrase)\n",
    "    phrase = re.sub(r\"\\'s\", \" is\", phrase)\n",
    "    phrase = re.sub(r\"\\'d\", \" would\", phrase)\n",
    "    phrase = re.sub(r\"\\'ll\", \" will\", phrase)\n",
    "    phrase = re.sub(r\"\\'t\", \" not\", phrase)\n",
    "    phrase = re.sub(r\"\\'ve\", \" have\", phrase)\n",
    "    phrase = re.sub(r\"\\'m\", \" am\", phrase)\n",
    "    \n",
    "    return phrase\n",
    "\n",
    "##################emoji based preprocessing\n",
    "import emoji\n",
    "#load e2v file\n",
    "e2v = KeyedVectors.load_word2vec_format('emoji2vec.bin', binary=True)\n",
    "#print the vocab of the file\n",
    "e2v_words= list(e2v.wv.vocab)\n",
    "#make a demojified vocab\n",
    "demojized_e2v_words=[]\n",
    "for word in e2v_words:\n",
    "    new=emoji.demojize(word)\n",
    "    demojized_e2v_words.append(new)\n",
    "\n",
    "\n",
    "def text_has_emoji(text):\n",
    "    for character in text:\n",
    "        if character in emoji.UNICODE_EMOJI:\n",
    "            return True\n",
    "    return False\n",
    "\n",
    "def extract_emojis(str):\n",
    "    # https://stackoverflow.com/questions/43146528/how-to-extract-all-the-emojis-from-text\n",
    "    return ' '.join(c for c in str if c in emoji.UNICODE_EMOJI) \n",
    "\n",
    "def emoji_convert(word):\n",
    "    \"\"\"emoji's are represented as->> :emoji_text: \n",
    "    we need to count the occurance of how many such patterns exist\n",
    "    word>> -,👍 o/p - should be \":thumbsup:\"\n",
    "    word>> :👍  o/p - should be \":thumbsup:\"\n",
    "    word>> 👍®  o/p - should be \":thumbsup: :registered:\n",
    "    basically extracts the emoji's only from the text\n",
    "    \"\"\"\n",
    "    new_string_with_emoji= extract_emojis(word) #get's all the emoji's\n",
    "    demojified=emoji.demojize(new_string_with_emoji)\n",
    "    return demojified\n",
    "    \n",
    "\n",
    "\n",
    "#print(emoji.demojize(\"wtf is wrong with you 😂 ? 👍❤️😊\"))\n",
    "\n",
    "\n",
    "\n",
    "###############################################################\n",
    "\n",
    "from tqdm import tqdm\n",
    "\n",
    "preprocessed_reviews = []\n",
    "# tqdm is for printing the status bar\n",
    "\n",
    "emoji_ind=[] #denotes which sentence contains the emoji\n",
    "\n",
    "i=0\n",
    "for sentance in tqdm(final['Text'].values):\n",
    "    sentance = re.sub(r\"http\\S+\", \"\", sentance) #remove html links\n",
    "    sentance = BeautifulSoup(sentance, 'lxml').get_text() #remove html tags\n",
    "    sentance = decontracted(sentance) #remove abbreviations\n",
    "    sentance = re.sub(\"\\S*\\d\\S*\", \"\", sentance).strip() # remove words with numbers\n",
    "    \n",
    "    emoji_sent= text_has_emoji(sentance) #does emoji exist in sentence\n",
    "    if(emoji_sent): #this checks if the review has emoji\n",
    "        #if we are here this means we have emoji\n",
    "        emojis_list=emoji_convert(sentance).split(\" \") #gets all the emoji's in the sentence \n",
    "        #print(emojis_list) #this list contains all the emoji's in the sentence \n",
    "        emoji_ind.append(i) #store the emoji index number to keep track of it\n",
    "        #now the emoji can be used as a individual word or mixed with a word or combination of multiple emojis\n",
    "        demo=\"\"#convert back to emoji \n",
    "        #apply special character transformation to only non emoji words as this will remove emoji's\n",
    "        for word in sentance.split(): #for every word in the sentance \n",
    "            if word in e2v_words: #either the word itself is a direct emoji or a combination of characters and emoji #this means a direct emoji\n",
    "                word=emoji.demojize(word)\n",
    "            elif(text_has_emoji(word)): #the word is made up of emoji character\n",
    "                word=emoji_convert(word)\n",
    "            demo+=word+\" \"\n",
    "        sentance=demo\n",
    "        \n",
    "    if not(emoji_sent): #if there is no emoji in the sentance\n",
    "        sentance = re.sub('[^A-Za-z]+', ' ', sentance)#then apply sentance substitute for normal regex\n",
    "   \n",
    "\n",
    "    sentance=sentance.strip()\n",
    "    sentance=emoji.emojize(sentance)\n",
    "    \n",
    "    #sentance = re.sub('[^A-Za-z]+', ' ', sentance) # remove the special characters from the words using reg ex\n",
    "    # https://gist.github.com/sebleier/554280\n",
    "    sentance = ' '.join(e.lower() for e in sentance.split() if e.lower() not in stopwords) #join with spaces after removing stop words\n",
    "    #sentance=emoji.emojize(sentance) #convert them back into their emoji form\n",
    "    preprocessed_reviews.append(sentance.strip())\n",
    "    i+=1\n",
    "\n",
    "print(emoji_ind) #these sentences basically contain all the emoji's\n",
    "\n",
    "    "
   ]
  },
  {
   "cell_type": "code",
   "execution_count": 11,
   "metadata": {
    "colab": {
     "base_uri": "https://localhost:8080/"
    },
    "id": "8zkneWJZ19uN",
    "outputId": "0a59e7a3-4482-4d00-b119-f7518dfca73f"
   },
   "outputs": [
    {
     "name": "stdout",
     "output_type": "stream",
     "text": [
      "\n",
      "=========my preprocessed review========\n",
      "😆\n",
      "\n",
      "=========this is the original review========\n",
      "😆\n",
      "1.0\n",
      "\n",
      "=========my preprocessed review========\n",
      "😊\n",
      "\n",
      "=========this is the original review========\n",
      "😊\n",
      "1.0\n",
      "\n",
      "=========my preprocessed review========\n",
      "actually not even deserve star. disappointed. not hold charge all..thanks lot selling piece 🙁\n",
      "\n",
      "=========this is the original review========\n",
      "Actually it doesn't even deserve 1 star. Very disappointed. It will not hold a charge at all..thanks a lot for selling me a piece of crap.🙁\n",
      "0.0\n",
      "\n",
      "=========my preprocessed review========\n",
      "motorla flip phone! make sure order new battery one got last two hours! bought extended battery cover last days days! great phone great packing fast delivery, seller failed mention battery worthless! 🐖 love phone! star phone! stars side buttons deteriorated joke! military grade thi nk not\n",
      "\n",
      "=========this is the original review========\n",
      "Motorla flip phone! Make sure you order a new battery the one I got last two hours! I bought an extended battery with cover last for days and days! Great phone great packing fast delivery, but the seller failed to mention the battery is worthless! 🐖 I love this phone! 2 star phone! Wouldbe4 stars but the side buttons all deteriorated what a joke! Military grade I THI NK NOT\n",
      "0.0\n",
      "\n",
      "=========my preprocessed review========\n",
      "👌\n",
      "\n",
      "=========this is the original review========\n",
      "👌\n",
      "1.0\n",
      "\n",
      "=========my preprocessed review========\n",
      "got son loves phone not get things like instagram others besides great phone 😀\n",
      "\n",
      "=========this is the original review========\n",
      "Got for my son he loves the phone but he can't get things like Instagram and a few others besides that great phone 😀\n",
      "1.0\n",
      "\n",
      "=========my preprocessed review========\n",
      "pros: screen size motorola smart actions (way cool) processor phone build/design (e.g. dupont ® fiber, ® ® glass, water repellent nano-coating.) overall size battery life speaker location microphone location removable storage (micro sd) stripped ui quick upgrades android software (now google charge) cons: notification light (not big bright enough) back camera (takes poor pictures esp. flash) front camera (only megapixels) screen resolution (no hd) ram (need min.)\n",
      "\n",
      "=========this is the original review========\n",
      "PROS: 4.3\" screen size Motorola Smart Actions (way cool) Processor Phone build/design (e.g. DuPont Kevlar® fiber, Corning® Gorilla® Glass, and a water repellent nano-coating.) Overall size Battery life Speaker location Microphone location Removable storage (Micro SD) Stripped down UI Quick upgrades to Android software (now that Google is in charge) CONS: Notification light (not big or bright enough) Back camera (takes poor pictures esp. with flash) Front camera (only .3 megapixels) Screen resolution (no HD) RAM (need 2GB min.)\n",
      "1.0\n",
      "\n",
      "=========my preprocessed review========\n",
      "not impressed. window cell phone. hard get apps. battery last hours. phone sucks! 😥\n",
      "\n",
      "=========this is the original review========\n",
      "I'm not impressed. It is a Window cell phone. It's hard to get apps. And the battery only last for a few hours. Phone sucks! 😥\n",
      "0.0\n",
      "\n",
      "=========my preprocessed review========\n",
      "great phone mint condition works like dream awesome 🙆 seller\n",
      "\n",
      "=========this is the original review========\n",
      "Great phone mint condition works like a Dream awesome 🙆 seller\n",
      "1.0\n",
      "\n",
      "=========my preprocessed review========\n",
      "phone came really good price. happy found amazon. bought boyfriend currently use more!we upgraded galaxy galaxy amazing. love additional features package came phone, wall charger, charger cord battery. not received guide it, not matter me. warned though. device needed sim card not come one. galaxy sprint not even use sim card. contacted sprint sent one free. grateful really helped out. great upgrade love walking app pre-installed phone. needed upgrade transferred phone number phone. changed layout familiar layout known temporarily confused new configuration acclimated quickly. battery life far seems less however, could first week playing around much. also bought screen protector: samsung galaxy screen protector anti shock ® premium (pack bundle free metal stylus touch screen pen {lifetime warranty} bought case well: galaxy case, magicmobile [dual armor series] rugged durable [impact shockproof resistant] double layer cover [hard shell] & [flexible silicone] case galaxy case - black / green screen protector\n",
      "\n",
      "=========this is the original review========\n",
      "This phone came at a really good price. I'm happy I found it here on Amazon. I bought it for my boyfriend but I currently use it more!We upgraded from a Galaxy S3 to this Galaxy S4, and it is amazing. We love all the additional features to this S4. The package came with the phone, wall charger, charger cord and battery. I did not received the guide for it, which doesn't matter to me. Be warned though. This device needed a SIM card and it did not come with one. The Galaxy S3 from Sprint didn't even use a SIM card. I contacted Sprint about this and they sent me one for free. I am so grateful they did because it really helped me out. The S4 is such a great upgrade from the S3. I love that there is a walking app pre-installed on this phone. It needed an upgrade after we transferred the phone number to the phone. It changed the layout from the familiar S3 to the layout known for S4. We were temporarily confused by the new configuration but acclimated quickly. The battery life so far seems to be less than the S3, however, that could be because this is the first week and we were playing around on it so much. I also bought this screen protector: Samsung Galaxy S4 Screen Protector Anti Shock Sentey® 3h Premium 0.34mm Ls-12204 (Pack of 2) Bundle with Free Metal Stylus Touch Screen Pen {Lifetime Warranty} I bought this case as well: Galaxy S4 Case, MagicMobile [Dual Armor Series] Rugged Durable [Impact Shockproof Resistant] Double Layer Cover [Hard Shell] & [Flexible Silicone] Case for Galaxy S4 Case - Black / Green with Screen Protector\n",
      "1.0\n"
     ]
    }
   ],
   "source": [
    "#print all the emoji present rows\n",
    "i = 0\n",
    "for element in emoji_ind:\n",
    "    if i<10:\n",
    "      i += 1\n",
    "      print(\"\\n=========my preprocessed review========\")\n",
    "      print(preprocessed_reviews[element]) #get all the reviews\n",
    "      print(\"\\n=========this is the original review========\")\n",
    "      print(final[\"Text\"].values[element])\n",
    "      print(final[\"Score\"].values[element])"
   ]
  },
  {
   "cell_type": "code",
   "execution_count": 12,
   "metadata": {
    "colab": {
     "base_uri": "https://localhost:8080/",
     "height": 702
    },
    "id": "xzJIZJp819uN",
    "outputId": "85da444a-6ede-40cc-e7c2-00ab08c8f37e"
   },
   "outputs": [
    {
     "name": "stderr",
     "output_type": "stream",
     "text": [
      "0it [00:00, ?it/s]\n"
     ]
    },
    {
     "name": "stdout",
     "output_type": "stream",
     "text": [
      "There are 1824608 words in the combination of all pos review.\n",
      "There are 575005 words in the combination of all neg review.\n"
     ]
    },
    {
     "data": {
      "image/png": "[encoded data removed]",
      "text/plain": [
       "<Figure size 432x288 with 1 Axes>"
      ]
     },
     "metadata": {
      "tags": []
     },
     "output_type": "display_data"
    },
    {
     "data": {
      "image/png": "[encoded data removed]",
      "text/plain": [
       "<Figure size 432x288 with 1 Axes>"
      ]
     },
     "metadata": {
      "tags": []
     },
     "output_type": "display_data"
    },
    {
     "name": "stdout",
     "output_type": "stream",
     "text": [
      "this is the len of the text : 11386522\n"
     ]
    },
    {
     "data": {
      "image/png": "[encoded data removed]",
      "text/plain": [
       "<Figure size 504x504 with 1 Axes>"
      ]
     },
     "metadata": {
      "tags": []
     },
     "output_type": "display_data"
    }
   ],
   "source": [
    "#generate positive and negative words word cloud\n",
    "from wordcloud import WordCloud, STOPWORDS, ImageColorGenerator\n",
    "from PIL import Image\n",
    "\n",
    "pos_text=\"\"\n",
    "neg_text=\"\"\n",
    "\n",
    "i=0\n",
    "for review,score in tqdm(zip(preprocessed_reviews,final[\"Score\"])):\n",
    "    if(score==1):\n",
    "        pos_text += review\n",
    "    else:\n",
    "        neg_text += review\n",
    "    i+=1\n",
    "    if(i>10000):\n",
    "        break\n",
    "        \n",
    "print (\"There are {} words in the combination of all pos review.\".format(len(pos_text)))\n",
    "print (\"There are {} words in the combination of all neg review.\".format(len(neg_text)))\n",
    "\n",
    "\n",
    "#positive word cloud \n",
    "wordcloud = WordCloud(width=800, height=400,max_font_size=50, max_words=100, background_color=\"white\").generate(pos_text)\n",
    "plt.figure()\n",
    "plt.imshow(wordcloud, interpolation=\"bilinear\")\n",
    "plt.axis(\"off\")\n",
    "plt.show()\n",
    "\n",
    "#negative word cloud\n",
    "wordcloud = WordCloud(width=800, height=400,max_font_size=50, max_words=100, background_color=\"white\").generate(neg_text)\n",
    "plt.figure()\n",
    "plt.imshow(wordcloud, interpolation=\"bilinear\")\n",
    "plt.axis(\"off\")\n",
    "plt.show()\n",
    "\n",
    "\n",
    "# Start with one review:\n",
    "\n",
    "text=\"\"\n",
    "\n",
    "for review in preprocessed_reviews:\n",
    "    text+=review\n",
    "    \n",
    "print(\"this is the len of the text : {}\".format(len(text)))\n",
    "    \n",
    "#load the masking image  for amazon image \n",
    "\n",
    "\n",
    "\n",
    "\n",
    "#amazon word cloud for all the reviews in the image \n",
    "from wordcloud import ImageColorGenerator\n",
    "\n",
    "# Generate a word cloud image\n",
    "mask = np.array(Image.open(\"amzn.png\"))\n",
    "wordcloud_usa = WordCloud( background_color=\"white\", mode=\"RGBA\", max_words=300, mask=mask).generate(text)\n",
    "\n",
    "# create coloring from image\n",
    "image_colors = ImageColorGenerator(mask)\n",
    "plt.figure(figsize=[7,7])\n",
    "plt.imshow(wordcloud_usa.recolor(color_func=image_colors), interpolation=\"bilinear\")\n",
    "plt.axis(\"off\")\n",
    "\n",
    "# store to file\n",
    "plt.savefig(\"masked_amazon.png\", format=\"png\")\n",
    "\n",
    "plt.show()\n",
    "\n",
    "\n"
   ]
  },
  {
   "cell_type": "code",
   "execution_count": 13,
   "metadata": {
    "colab": {
     "base_uri": "https://localhost:8080/",
     "height": 238
    },
    "id": "Kjt0u2oJ19uN",
    "outputId": "49eda1de-9b8d-4394-b90a-7634c736bc12"
   },
   "outputs": [
    {
     "data": {
      "text/html": [
       "        <script type=\"text/javascript\">\n",
       "        window.PlotlyConfig = {MathJaxConfig: 'local'};\n",
       "        if (window.MathJax) {MathJax.Hub.Config({SVG: {font: \"STIX-Web\"}});}\n",
       "        if (typeof require !== 'undefined') {\n",
       "        require.undef(\"plotly\");\n",
       "        requirejs.config({\n",
       "            paths: {\n",
       "                'plotly': ['https://cdn.plot.ly/plotly-latest.min']\n",
       "            }\n",
       "        });\n",
       "        require(['plotly'], function(Plotly) {\n",
       "            window._Plotly = Plotly;\n",
       "        });\n",
       "        }\n",
       "        </script>\n",
       "        "
      ]
     },
     "metadata": {
      "tags": []
     },
     "output_type": "display_data"
    },
    {
     "name": "stdout",
     "output_type": "stream",
     "text": [
      "45810 16629\n",
      "     ReviewText  count\n",
      "0  battery life   4461\n",
      "1   great phone   3699\n",
      "2    love phone   2340\n",
      "3     phone not   2056\n",
      "4      sim card   1899\n",
      "  ReviewText  count\n",
      "0  phone not   2293\n",
      "1   not work   1774\n",
      "2  would not   1298\n",
      "3  could not   1058\n",
      "4   sim card    964\n"
     ]
    }
   ],
   "source": [
    "#bigrams representations of common words in both the segments\n",
    "\n",
    "#top 20 bigrams in the data after preprocessing\n",
    "#we use the bigrams because unigram will have alot of common words in both the categories\n",
    "\n",
    "import cufflinks as cf\n",
    "cf.go_offline()\n",
    "cf.set_config_file(offline=False, world_readable=True)\n",
    "\n",
    "def get_top_n_words(corpus, n=None):\n",
    "    vec = CountVectorizer(ngram_range=(2, 2)).fit(corpus)\n",
    "    bag_of_words = vec.transform(corpus)\n",
    "    sum_words = bag_of_words.sum(axis=0) \n",
    "    words_freq = [(word, sum_words[0, idx]) for word, idx in vec.vocabulary_.items()]\n",
    "    words_freq =sorted(words_freq, key = lambda x: x[1], reverse=True)\n",
    "    return words_freq[:n]\n",
    "\n",
    "pos_review=[]\n",
    "neg_review=[]\n",
    "for review,score in zip(preprocessed_reviews,final[\"Score\"]):\n",
    "    if (score==1):\n",
    "        pos_review.append(review)\n",
    "    else:\n",
    "        neg_review.append(review)\n",
    "\n",
    "#seperates the pos review and neg reviews into 2 different lists\n",
    "print(len(pos_review),len(neg_review))\n",
    "\n",
    "\n",
    "common_words_pos = get_top_n_words(pos_review, 20)\n",
    "common_words_neg = get_top_n_words(neg_review, 20)\n",
    "\n",
    "#print pos review count\n",
    "#print(\"this is the positive side\")\n",
    "#for word, freq in common_words_pos:\n",
    "    #print(word, freq)\n",
    "\n",
    "#print neg review count\n",
    "#print(\"this is the negative side\")\n",
    "#for word, freq in common_words_neg:\n",
    "    #print(word, freq)\n",
    "    \n",
    "\n",
    "df_pos = pd.DataFrame(common_words_pos, columns = ['ReviewText' , 'count'])\n",
    "# df_pos.groupby('ReviewText').sum()['count'].sort_values(ascending=False).iplot(\n",
    "    # kind='bar', yTitle='Count', linecolor='black', title='Top 20 pos words in review after removing stop words')\n",
    "print(df_pos.head())\n",
    "\n",
    "df_neg = pd.DataFrame(common_words_neg, columns = ['ReviewText' , 'count'])\n",
    "# df_neg.groupby('ReviewText').sum()['count'].sort_values(ascending=False).iplot(\n",
    "#     kind='bar', yTitle='Count', linecolor='black', title='Top 20 neg words in review after removing stop words')\n",
    "print(df_neg.head())\n",
    "\n"
   ]
  },
  {
   "cell_type": "markdown",
   "metadata": {
    "id": "r2ARjR9219uO"
   },
   "source": [
    "# feature transformation"
   ]
  },
  {
   "cell_type": "markdown",
   "metadata": {
    "id": "-E4xKnty19uO"
   },
   "source": [
    "#  training a w2vec"
   ]
  },
  {
   "cell_type": "code",
   "execution_count": 14,
   "metadata": {
    "colab": {
     "base_uri": "https://localhost:8080/"
    },
    "id": "1L7giKOx19uO",
    "outputId": "9898ea67-b72b-445e-e184-d53cb68dc94c"
   },
   "outputs": [
    {
     "name": "stderr",
     "output_type": "stream",
     "text": [
      "100%|██████████| 62439/62439 [00:00<00:00, 200585.58it/s]\n"
     ]
    },
    {
     "name": "stdout",
     "output_type": "stream",
     "text": [
      "['quick', 'shipping', 'used', 'product', 'works', 'great', 'no', 'issues']\n",
      "[('recall', 0.21461144089698792), ('plus', 0.20841330289840698), ('borrowed', 0.2068723738193512), ('increases', 0.2063121199607849), ('importante', 0.200521320104599), ('optimizations', 0.1952669769525528), ('saver', 0.18983745574951172), ('baseband', 0.18921446800231934), ('removing', 0.18590539693832397), ('descriptions', 0.1848619282245636)]\n",
      "==================================================\n",
      "[('confortable', 0.2171018123626709), ('qualified', 0.1945611536502838), ('instant', 0.1920045018196106), ('approach', 0.1882505714893341), ('(', 0.1870245337486267), ('offers', 0.18365097045898438), ('ending', 0.18307369947433472), ('cellular', 0.17972707748413086), ('proof', 0.17899882793426514), ('triangle', 0.17855742573738098)]\n",
      "saving the model to disk\n"
     ]
    }
   ],
   "source": [
    "i=0\n",
    "list_of_sentance=[]\n",
    "\n",
    "for sentance in tqdm(preprocessed_reviews):\n",
    "    list_of_sentance.append(sentance.split())\n",
    "    \n",
    "print(list_of_sentance[911])\n",
    "    \n",
    "# Using Google News Word2Vectors\n",
    "\n",
    "# in this project we are using a pretrained model by google\n",
    "# its 3.3G file, once you load this into your memory \n",
    "# it occupies ~9Gb, so please do this step only if you have >12G of ram\n",
    "# we will provide a pickle file wich contains a dict , \n",
    "# and it contains all our courpus words as keys and  model[word] as values\n",
    "# To use this code-snippet, download \"GoogleNews-vectors-negative300.bin\" \n",
    "# from https://drive.google.com/file/d/0B7XkCwpI5KDYNlNUTTlSS21pQmM/edit\n",
    "# it's 1.9GB in size.\n",
    "\n",
    "\n",
    "# http://kavita-ganesan.com/gensim-word2vec-tutorial-starter-code/#.W17SRFAzZPY\n",
    "# you can comment this whole cell\n",
    "# or change these varible according to your need\n",
    "\n",
    "\n",
    "# min_count = 5 considers only words that occured atleast 5 times\n",
    "w2v_model=Word2Vec(list_of_sentance,min_count=5,size=300, workers=-1)\n",
    "print(w2v_model.wv.most_similar('great'))\n",
    "print('='*50)\n",
    "print(w2v_model.wv.most_similar('worst'))\n",
    "print(\"saving the model to disk\")\n",
    "w2v_model.wv.save_word2vec_format('my_model.bin')"
   ]
  },
  {
   "cell_type": "code",
   "execution_count": 15,
   "metadata": {
    "colab": {
     "base_uri": "https://localhost:8080/"
    },
    "id": "mz2BndP119uO",
    "outputId": "96788b66-3e26-4da9-a069-8914fb3b697a"
   },
   "outputs": [
    {
     "name": "stdout",
     "output_type": "stream",
     "text": [
      "number of words that occured minimum 5 times  10329\n",
      "sample words  ['due', 'software', 'issue', 'nokia', 'sprint', 'phone', 'text', 'messaging', 'capabilities', 'not', 'work', 'system', 'patch', 'comes', 'time', 'next', 'months', 'spend', 'least', 'hour', 'award', 'winning', 'customer', 'service', 'team', 'find', 'someone', 'admit', 'problem', 'designed', 'phones', 'incoming', 'messages', 'quickly', 'viewed', 'offline', 'way', 'providers', 'however', 'likes', 'people', 'hook', 'server', 'first', 'stay', 'connected', 'burning', 'minutes', 'check', 'inbox']\n",
      "loading emoji to vector from the e2v word file 1661\n",
      "sample emoticons ['🇸🇰', '👔', '🌀', '🚾', '👹', '🚻', '👬', '🇫🇯', '🎧', '🐽', '🚜', '♋', '🚭', '🚷', '📅', '💈', '✔️', '🙎🏼', '🍸', '🤷', '🌂', '🚓', '🍤', '💘', '🚔', '👚', '🐧', '🍥', '🍵', '✂️', '👓', '⛔', '💂', '🆔', '😕', '🎎', '🏊🏻', '❗', '💭', '💬', '🎴', '♉', '⚖', '🇮🇩', '🛵', '⬅️', '📒', '😡', '🇲🇦', '🇨🇭']\n"
     ]
    }
   ],
   "source": [
    "#word to vector model\n",
    "w2v_words = list(w2v_model.wv.vocab)\n",
    "print(\"number of words that occured minimum 5 times \",len(w2v_words))\n",
    "print(\"sample words \", w2v_words[0:50])\n",
    "\n",
    "#emoji to vector\n",
    "#https://github.com/uclnlp/emoji2vec\n",
    "e2v_words= list(e2v.wv.vocab)\n",
    "print(\"loading emoji to vector from the e2v word file\",len(e2v_words))\n",
    "print(\"sample emoticons\", e2v_words[0:50])"
   ]
  },
  {
   "cell_type": "markdown",
   "metadata": {
    "id": "FU0eMGZd19uO"
   },
   "source": [
    "# tf-idf word2vec"
   ]
  },
  {
   "cell_type": "code",
   "execution_count": 16,
   "metadata": {
    "colab": {
     "base_uri": "https://localhost:8080/"
    },
    "id": "SL_FQpTJ19uO",
    "outputId": "e70c599f-0a88-4b27-f961-5c51dcd20a3d"
   },
   "outputs": [
    {
     "name": "stderr",
     "output_type": "stream",
     "text": [
      "  0%|          | 9/62439 [00:00<23:42, 43.89it/s]"
     ]
    },
    {
     "name": "stdout",
     "output_type": "stream",
     "text": [
      "10.096051225574055\n"
     ]
    },
    {
     "name": "stderr",
     "output_type": "stream",
     "text": [
      "100%|██████████| 62439/62439 [10:06<00:00, 102.97it/s]\n"
     ]
    }
   ],
   "source": [
    "# S = [\"abc def pqr\", \"def def def abc\", \"pqr pqr def\"]\n",
    "\n",
    "#since the tdidf vectorizer class removes all the patterns we need to save the emoji patterns\n",
    "model = TfidfVectorizer(token_pattern=r'[^\\s]+') #regex pattern to keep emoji\n",
    "model.fit(preprocessed_reviews)\n",
    "# we are converting a dictionary with word as a key, and the idf as a value\n",
    "dictionary = dict(zip(model.get_feature_names(), list(model.idf_)))#dict of word_name: idf score\n",
    "print(dictionary[\"®\"])\n",
    "\n",
    "# TF-IDF weighted Word2Vec\n",
    "tfidf_feat = model.get_feature_names() # tfidf words/col-names\n",
    "# final_tf_idf is the sparse matrix with row= sentence, col=word and cell_val = tfidf\n",
    "\n",
    "tfidf_sent_vectors = []; # the tfidf-w2v for each sentence/review is stored in this list\n",
    "row=0;\n",
    "for sent in tqdm(list_of_sentance): # for each review/sentence \n",
    "    sent_vec_eng = np.zeros(300) # as word vectors are of zero length #might have to change this if using self word2vec model\n",
    "    sent_e2vec= np.zeros(300) #emoji vector are of zero length \n",
    "    weight_sum_w2v =0; # num of words with a valid vector in the sentence/review\n",
    "    weight_sum_e2v=0;\n",
    "    for word in sent: # for each word in a review/sentence\n",
    "        if ((word in w2v_words) or (word in e2v_words)) and (word in tfidf_feat):\n",
    "            if(word in w2v_words):\n",
    "                w2vec = w2v_model.wv[word]\n",
    "                tf_idf_w2v = dictionary[word]*(sent.count(word)/len(sent)) #idf*tf\n",
    "                sent_vec_eng += (w2vec * tf_idf_w2v) #compute the tf-idf score for each vec and add that to previous score\n",
    "                weight_sum_w2v+=tf_idf_w2v\n",
    "            elif(word in e2v_words):\n",
    "                e2vec = e2v.wv[word]\n",
    "                tf_idf_e2v = dictionary[word]*(sent.count(word)/len(sent)) #idf*tf\n",
    "                sent_e2vec += (e2vec*tf_idf_e2v)\n",
    "                weight_sum_e2v+=tf_idf_e2v\n",
    "            #tf_idf = tf_idf_matrix[row, tfidf_feat.index(word)]\n",
    "            # to reduce the computation we are \n",
    "            # dictionary[word] = idf value of word in whole courpus\n",
    "            # sent.count(word) = tf valeus of word in this review\n",
    "            \n",
    "    if weight_sum_w2v != 0:\n",
    "        sent_vec_eng /= weight_sum_w2v #calculte avg w2vec,tfidf score\n",
    "        \n",
    "    if weight_sum_e2v != 0:\n",
    "        sent_e2vec /= weight_sum_e2v #calculte avg w2vec,tfidf score   \n",
    "        \n",
    "    final=np.concatenate((sent_vec_eng, sent_e2vec))\n",
    "    tfidf_sent_vectors.append(final) #after all the words are feed then update the sentence vec to the list "
   ]
  },
  {
   "cell_type": "code",
   "execution_count": 17,
   "metadata": {
    "colab": {
     "base_uri": "https://localhost:8080/"
    },
    "id": "_QcWNnwl19uO",
    "outputId": "58a92812-dfdb-4827-ae97-763208844210"
   },
   "outputs": [
    {
     "name": "stdout",
     "output_type": "stream",
     "text": [
      "62439\n",
      "(62439, 600)\n"
     ]
    }
   ],
   "source": [
    "#save the model \n",
    "from sklearn.externals import joblib\n",
    "print(len(tfidf_sent_vectors))\n",
    "X_tr=np.asarray(tfidf_sent_vectors)\n",
    "joblib.dump(X_tr, 'tf_idf_enw2v_e2v.pkl')\n",
    "#get the final preprocessed data into pd data frame\n",
    "tf_idf_final_avg_w2v= pd.DataFrame(tfidf_sent_vectors)\n",
    "print(tf_idf_final_avg_w2v.shape)"
   ]
  },
  {
   "cell_type": "code",
   "execution_count": 18,
   "metadata": {
    "colab": {
     "base_uri": "https://localhost:8080/"
    },
    "id": "CeUuhe9W19uO",
    "outputId": "f8db1bc5-27e9-4bd4-8e12-a39f6c0b31b4"
   },
   "outputs": [
    {
     "name": "stdout",
     "output_type": "stream",
     "text": [
      "(62439, 600) (62439, 1)\n"
     ]
    }
   ],
   "source": [
    "from sklearn.externals import joblib\n",
    "X_tr=joblib.load('tf_idf_enw2v_e2v.pkl')\n",
    "y_tr=joblib.load(\"y_labels_enw2v_e2v.pkl\")\n",
    "print(X_tr.shape,y_tr.shape)\n",
    "#print(type(y_tr),type(X_tr))\n",
    "# X_tr"
   ]
  },
  {
   "cell_type": "markdown",
   "metadata": {
    "id": "s0bhPDck19uP"
   },
   "source": [
    "# Algorithm implementations using KNN, ANN"
   ]
  },
  {
   "cell_type": "code",
   "execution_count": 19,
   "metadata": {
    "colab": {
     "base_uri": "https://localhost:8080/"
    },
    "id": "6OQnlLbh19uP",
    "outputId": "bc1de99b-2898-40ab-d6cb-4ec20813e6cd"
   },
   "outputs": [
    {
     "name": "stdout",
     "output_type": "stream",
     "text": [
      "(62439, 300)\n",
      "StandardScaler(copy=True, with_mean=True, with_std=True)\n",
      "this is my new X_tr:(62439, 300)\n",
      "are both the array's equal:  False\n",
      "==================== train data (80%)====================\n",
      "(49951, 300) (49951, 1)\n",
      "==================== test data (20%)====================\n",
      "(12488, 300) (12488, 1)\n"
     ]
    }
   ],
   "source": [
    "#loading the data and standardizing it before actually implemnting algorithms\n",
    "from sklearn.metrics import accuracy_score\n",
    "from sklearn.neighbors import KNeighborsClassifier\n",
    "from sklearn.model_selection import GridSearchCV\n",
    "from joblib import dump, load\n",
    "import numpy as np\n",
    "\n",
    "\n",
    "X_tr_complete = joblib.load('tf_idf_enw2v_e2v.pkl')\n",
    "y_tr_complete = joblib.load(\"y_labels_enw2v_e2v.pkl\")\n",
    "X_tr_complete=X_tr_complete[:,:300]+X_tr_complete[:,300:]\n",
    "print(X_tr_complete.shape)\n",
    "\n",
    "shapes=y_tr_complete.shape\n",
    "# y_tr_complete = y_tr_complete.reshape((shapes[0],))#reshape y to y,\n",
    "\n",
    "#standardization of the dataset\n",
    "from sklearn.preprocessing import StandardScaler\n",
    "scaler = StandardScaler()\n",
    "print(scaler.fit(X_tr_complete))\n",
    "X_tr_new=scaler.transform(X_tr_complete)\n",
    "print(\"this is my new X_tr:{}\".format(X_tr_new.shape))\n",
    "print(\"are both the array's equal: \",np.array_equal(X_tr_complete,X_tr_new))\n",
    "\n",
    "#train test split and random splitting\n",
    "from sklearn.model_selection import train_test_split\n",
    "# create training and testing data (80% train and 20% test)\n",
    "X_tr, X_test, y_tr, y_test = train_test_split(X_tr_new, y_tr_complete, test_size=0.2,random_state=5)#test size here relates to second var i.e test\n",
    "\n",
    "print(\"=\"*20+\" train data (80%)\"+\"=\"*20)\n",
    "print (X_tr.shape, y_tr.shape)\n",
    "print(\"=\"*20+\" test data (20%)\"+\"=\"*20)\n",
    "print (X_test.shape, y_test.shape)\n",
    "\n",
    "#since it is computational heavy to evaluate a ten fold evaluation for all the different hyperparameters such as\n",
    "#1 k value \n",
    "#2 uniform or weighted \n",
    "#3 distance type\n",
    "\n",
    "#we will now prioritize the bottom 2 first by a 80-20 split and evaluating their performance to see which parameter best performs\n",
    "#then upon deciding a rough estimate of these parameters we will then try to implement a 10 fold evalution to find the main hyper parameter that is k\n",
    "\n"
   ]
  },
  {
   "cell_type": "markdown",
   "metadata": {
    "id": "URxdn3Ti19uP"
   },
   "source": [
    "# K nearest neighbour algorithm\n",
    "\n",
    "1. we are now implementing the KNN algorithm to find the right k value, \n",
    "2. the weight association {wether we want weighted or uniform} \n",
    "3. and finally the distance metric to see the impact of the distances on knn"
   ]
  },
  {
   "cell_type": "code",
   "execution_count": 20,
   "metadata": {
    "colab": {
     "base_uri": "https://localhost:8080/"
    },
    "id": "x8ZI_R6319uP",
    "outputId": "da98c6cd-6677-4038-ea96-a6a2bb8667af"
   },
   "outputs": [
    {
     "name": "stdout",
     "output_type": "stream",
     "text": [
      "fitting.........\n",
      "getting predictions.........\n"
     ]
    },
    {
     "name": "stderr",
     "output_type": "stream",
     "text": [
      "\r",
      "  0%|          | 0/4 [00:00<?, ?it/s]"
     ]
    },
    {
     "name": "stdout",
     "output_type": "stream",
     "text": [
      "computing scores............\n",
      "0.8639863130881095 0.7835522101217168\n",
      "total_execution time: 21.76689577102661\n"
     ]
    },
    {
     "name": "stderr",
     "output_type": "stream",
     "text": [
      "100%|██████████| 4/4 [05:14<00:00, 78.67s/it]"
     ]
    },
    {
     "name": "stdout",
     "output_type": "stream",
     "text": [
      "accuracies:[0.7835522101217168, 0.780829596412556, 0.763613068545804, 0.8158231902626522] and f1_score:[0.8639863130881095, 0.8618583758138596, 0.852900139525613, 0.8766888269354494]\n",
      "metrics tested :['euclidean', 'manhattan', 'chebyshev', 'cosine']\n"
     ]
    },
    {
     "name": "stderr",
     "output_type": "stream",
     "text": [
      "\n"
     ]
    }
   ],
   "source": [
    "#let's try to implement and fix our knn for the distance and the weight scheme used \n",
    "from sklearn.neighbors import KNeighborsClassifier\n",
    "from sklearn import metrics #for confusion matrix\n",
    "from sklearn.metrics import f1_score, make_scorer, accuracy_score\n",
    "from tqdm import tqdm\n",
    "import time\n",
    "\n",
    "start=time.time()\n",
    "#simple classifier to see the runtime execution\n",
    "clf_1=KNeighborsClassifier(algorithm=\"brute\",n_jobs=-1)\n",
    "print(\"fitting.........\")\n",
    "clf_1.fit(X_tr,y_tr)\n",
    "print(\"getting predictions.........\")\n",
    "y_pred=clf_1.predict(X_test)\n",
    "print(\"computing scores............\")\n",
    "_f1=f1_score(y_test,y_pred)\n",
    "_acc=accuracy_score(y_test,y_pred)\n",
    "print(_f1,_acc)\n",
    "end=time.time()\n",
    "print(\"total_execution time: {}\".format(end-start))\n",
    "\n",
    "#setting up the tuning parameters\n",
    "tuned_parameters = {'metric': [\"euclidean\",\"manhattan\",\"chebyshev\",\"cosine\"],\"weights\":[\"uniform\",\"distance\"]}\n",
    "\n",
    "accuracy_list=[]\n",
    "f1_list=[]\n",
    "\n",
    "\n",
    "#run for all metrics\n",
    "for _metric in tqdm(tuned_parameters[\"metric\"]):\n",
    "    #setting up the default k=5 and weights =uniform\n",
    "    clf_1=KNeighborsClassifier(algorithm=\"brute\",weights=\"uniform\",metric=_metric,n_jobs=-1)\n",
    "    clf_1.fit(X_tr,y_tr)\n",
    "    y_pred=clf_1.predict(X_test)\n",
    "    _f1=f1_score(y_test,y_pred)\n",
    "    _acc=accuracy_score(y_test,y_pred)\n",
    "    accuracy_list.append(_acc)\n",
    "    f1_list.append(_f1)\n",
    "\n",
    "print(\"accuracies:{} and f1_score:{}\".format(accuracy_list,f1_list))\n",
    "print(\"metrics tested :{}\".format(tuned_parameters[\"metric\"]))\n",
    "\n",
    "\n",
    "\n"
   ]
  },
  {
   "cell_type": "code",
   "execution_count": 21,
   "metadata": {
    "colab": {
     "base_uri": "https://localhost:8080/"
    },
    "id": "gX881Bdt19uP",
    "outputId": "f587d3a8-236a-4d7a-f63d-2c702a12fc4a"
   },
   "outputs": [
    {
     "name": "stdout",
     "output_type": "stream",
     "text": [
      "accuracies:[0.7835522101217168, 0.780829596412556, 0.763613068545804, 0.8158231902626522] and f1_score:[0.8639863130881095, 0.8618583758138596, 0.852900139525613, 0.8766888269354494]\n",
      "metrics tested :['euclidean', 'manhattan', 'chebyshev', 'cosine']\n"
     ]
    }
   ],
   "source": [
    "print(\"accuracies:{} and f1_score:{}\".format(accuracy_list,f1_list))\n",
    "print(\"metrics tested :{}\".format(tuned_parameters[\"metric\"]))"
   ]
  },
  {
   "cell_type": "code",
   "execution_count": 24,
   "metadata": {
    "colab": {
     "base_uri": "https://localhost:8080/",
     "height": 318
    },
    "id": "mn7U-2ng6jM7",
    "outputId": "9babc4be-235c-4938-bae1-129d226cdd81"
   },
   "outputs": [
    {
     "data": {
      "text/plain": [
       "Text(0.5, 12.5, 'Predicted label')"
      ]
     },
     "execution_count": 24,
     "metadata": {
      "tags": []
     },
     "output_type": "execute_result"
    },
    {
     "data": {
      "image/png": "[encoded data removed]",
      "text/plain": [
       "<Figure size 432x288 with 2 Axes>"
      ]
     },
     "metadata": {
      "tags": []
     },
     "output_type": "display_data"
    }
   ],
   "source": [
    "import seaborn as sns\n",
    "import matplotlib.pyplot as plt\n",
    "confusion_matrix= metrics.confusion_matrix(y_test,y_pred)\n",
    "p = sns.heatmap(pd.DataFrame(confusion_matrix), annot=True, cmap=\"YlGnBu\" ,fmt='g')\n",
    "plt.title('Confusion matrix on test data')\n",
    "plt.ylabel('Actual label')\n",
    "plt.xlabel('Predicted label')"
   ]
  },
  {
   "cell_type": "markdown",
   "metadata": {
    "id": "lry96bu6eXTe"
   },
   "source": [
    "Artificial Neural Network"
   ]
  },
  {
   "cell_type": "code",
   "execution_count": null,
   "metadata": {
    "id": "zkVssxkZec39"
   },
   "outputs": [],
   "source": [
    "!pip install lz4"
   ]
  },
  {
   "cell_type": "code",
   "execution_count": 25,
   "metadata": {
    "id": "8VjXr2KxhEqW"
   },
   "outputs": [],
   "source": [
    "from keras import backend as K\n",
    "\n",
    "def f1(y_true, y_pred):\n",
    "    def recall(y_true, y_pred):\n",
    "        \"\"\"Recall metric.\n",
    "\n",
    "        Only computes a batch-wise average of recall.\n",
    "\n",
    "        Computes the recall, a metric for multi-label classification of\n",
    "        how many relevant items are selected.\n",
    "        \"\"\"\n",
    "        true_positives = K.sum(K.round(K.clip(y_true * y_pred, 0, 1)))\n",
    "        possible_positives = K.sum(K.round(K.clip(y_true, 0, 1)))\n",
    "        recall = true_positives / (possible_positives + K.epsilon())\n",
    "        return recall\n",
    "\n",
    "    def precision(y_true, y_pred):\n",
    "        \"\"\"Precision metric.\n",
    "\n",
    "        Only computes a batch-wise average of precision.\n",
    "\n",
    "        Computes the precision, a metric for multi-label classification of\n",
    "        how many selected items are relevant.\n",
    "        \"\"\"\n",
    "        true_positives = K.sum(K.round(K.clip(y_true * y_pred, 0, 1)))\n",
    "        predicted_positives = K.sum(K.round(K.clip(y_pred, 0, 1)))\n",
    "        precision = true_positives / (predicted_positives + K.epsilon())\n",
    "        return precision\n",
    "    precision = precision(y_true, y_pred)\n",
    "    recall = recall(y_true, y_pred)\n",
    "    return 2*((precision*recall)/(precision+recall+K.epsilon()))"
   ]
  },
  {
   "cell_type": "code",
   "execution_count": 26,
   "metadata": {
    "colab": {
     "base_uri": "https://localhost:8080/",
     "height": 1000
    },
    "id": "tYMDChBAgB85",
    "outputId": "c5baadda-6e45-4a63-fd99-5083759854d4"
   },
   "outputs": [
    {
     "name": "stdout",
     "output_type": "stream",
     "text": [
      "(49951, 300) (49951, 2) (12488, 300) (12488, 2)\n",
      "{0: 1.884516713197012, 1: 0.6805684233473214}\n",
      "total size of the network is 15 layers\n",
      "Model: \"sequential\"\n",
      "_________________________________________________________________\n",
      "Layer (type)                 Output Shape              Param #   \n",
      "=================================================================\n",
      "dense (Dense)                (None, 100)               30100     \n",
      "_________________________________________________________________\n",
      "dropout (Dropout)            (None, 100)               0         \n",
      "_________________________________________________________________\n",
      "dense_1 (Dense)              (None, 100)               10100     \n",
      "_________________________________________________________________\n",
      "dropout_1 (Dropout)          (None, 100)               0         \n",
      "_________________________________________________________________\n",
      "dense_2 (Dense)              (None, 100)               10100     \n",
      "_________________________________________________________________\n",
      "dropout_2 (Dropout)          (None, 100)               0         \n",
      "_________________________________________________________________\n",
      "batch_normalization (BatchNo (None, 100)               400       \n",
      "_________________________________________________________________\n",
      "dense_3 (Dense)              (None, 100)               10100     \n",
      "_________________________________________________________________\n",
      "dropout_3 (Dropout)          (None, 100)               0         \n",
      "_________________________________________________________________\n",
      "dense_4 (Dense)              (None, 100)               10100     \n",
      "_________________________________________________________________\n",
      "dropout_4 (Dropout)          (None, 100)               0         \n",
      "_________________________________________________________________\n",
      "batch_normalization_1 (Batch (None, 100)               400       \n",
      "_________________________________________________________________\n",
      "dense_5 (Dense)              (None, 100)               10100     \n",
      "_________________________________________________________________\n",
      "dropout_5 (Dropout)          (None, 100)               0         \n",
      "_________________________________________________________________\n",
      "dense_6 (Dense)              (None, 100)               10100     \n",
      "_________________________________________________________________\n",
      "dropout_6 (Dropout)          (None, 100)               0         \n",
      "_________________________________________________________________\n",
      "batch_normalization_2 (Batch (None, 100)               400       \n",
      "_________________________________________________________________\n",
      "dense_7 (Dense)              (None, 100)               10100     \n",
      "_________________________________________________________________\n",
      "dropout_7 (Dropout)          (None, 100)               0         \n",
      "_________________________________________________________________\n",
      "dense_8 (Dense)              (None, 100)               10100     \n",
      "_________________________________________________________________\n",
      "dropout_8 (Dropout)          (None, 100)               0         \n",
      "_________________________________________________________________\n",
      "batch_normalization_3 (Batch (None, 100)               400       \n",
      "_________________________________________________________________\n",
      "dense_9 (Dense)              (None, 100)               10100     \n",
      "_________________________________________________________________\n",
      "dropout_9 (Dropout)          (None, 100)               0         \n",
      "_________________________________________________________________\n",
      "dense_10 (Dense)             (None, 100)               10100     \n",
      "_________________________________________________________________\n",
      "dropout_10 (Dropout)         (None, 100)               0         \n",
      "_________________________________________________________________\n",
      "batch_normalization_4 (Batch (None, 100)               400       \n",
      "_________________________________________________________________\n",
      "dense_11 (Dense)             (None, 100)               10100     \n",
      "_________________________________________________________________\n",
      "dropout_11 (Dropout)         (None, 100)               0         \n",
      "_________________________________________________________________\n",
      "dense_12 (Dense)             (None, 100)               10100     \n",
      "_________________________________________________________________\n",
      "dropout_12 (Dropout)         (None, 100)               0         \n",
      "_________________________________________________________________\n",
      "batch_normalization_5 (Batch (None, 100)               400       \n",
      "_________________________________________________________________\n",
      "dense_13 (Dense)             (None, 100)               10100     \n",
      "_________________________________________________________________\n",
      "dropout_13 (Dropout)         (None, 100)               0         \n",
      "_________________________________________________________________\n",
      "dense_14 (Dense)             (None, 2)                 202       \n",
      "=================================================================\n",
      "Total params: 164,002\n",
      "Trainable params: 162,802\n",
      "Non-trainable params: 1,200\n",
      "_________________________________________________________________\n",
      "Epoch 1/60\n",
      "193/196 [============================>.] - ETA: 0s - loss: 0.6194 - f1: 0.7150\n",
      "Epoch 00001: val_loss improved from inf to 0.60589, saving model to /content/sample_data/results/checkpoint.hdf5\n",
      "196/196 [==============================] - 2s 10ms/step - loss: 0.6187 - f1: 0.7162 - val_loss: 0.6059 - val_f1: 0.7296\n",
      "Epoch 2/60\n",
      "195/196 [============================>.] - ETA: 0s - loss: 0.5685 - f1: 0.7340\n",
      "Epoch 00002: val_loss improved from 0.60589 to 0.59908, saving model to /content/sample_data/results/checkpoint.hdf5\n",
      "196/196 [==============================] - 2s 8ms/step - loss: 0.5684 - f1: 0.7342 - val_loss: 0.5991 - val_f1: 0.7296\n",
      "Epoch 3/60\n",
      "190/196 [============================>.] - ETA: 0s - loss: 0.5558 - f1: 0.7344\n",
      "Epoch 00003: val_loss did not improve from 0.59908\n",
      "196/196 [==============================] - 2s 8ms/step - loss: 0.5553 - f1: 0.7353 - val_loss: 0.6070 - val_f1: 0.7296\n",
      "Epoch 4/60\n",
      "196/196 [==============================] - ETA: 0s - loss: 0.5402 - f1: 0.7341\n",
      "Epoch 00004: val_loss did not improve from 0.59908\n",
      "196/196 [==============================] - 2s 8ms/step - loss: 0.5402 - f1: 0.7341 - val_loss: 0.6256 - val_f1: 0.7296\n",
      "Epoch 5/60\n",
      "196/196 [==============================] - ETA: 0s - loss: 0.5287 - f1: 0.7340\n",
      "Epoch 00005: val_loss did not improve from 0.59908\n",
      "196/196 [==============================] - 2s 8ms/step - loss: 0.5287 - f1: 0.7340 - val_loss: 0.6297 - val_f1: 0.7296\n",
      "Epoch 6/60\n",
      "191/196 [============================>.] - ETA: 0s - loss: 0.5120 - f1: 0.7349\n",
      "Epoch 00006: val_loss did not improve from 0.59908\n",
      "196/196 [==============================] - 2s 9ms/step - loss: 0.5122 - f1: 0.7344 - val_loss: 0.6479 - val_f1: 0.7296\n",
      "Epoch 7/60\n",
      "196/196 [==============================] - ETA: 0s - loss: 0.4942 - f1: 0.7340\n",
      "Epoch 00007: val_loss did not improve from 0.59908\n",
      "196/196 [==============================] - 2s 9ms/step - loss: 0.4942 - f1: 0.7340 - val_loss: 0.6686 - val_f1: 0.7296\n",
      "Epoch 8/60\n",
      "196/196 [==============================] - ETA: 0s - loss: 0.4751 - f1: 0.7417\n",
      "Epoch 00008: val_loss did not improve from 0.59908\n",
      "196/196 [==============================] - 2s 10ms/step - loss: 0.4751 - f1: 0.7417 - val_loss: 0.7194 - val_f1: 0.3225\n",
      "Epoch 9/60\n",
      "194/196 [============================>.] - ETA: 0s - loss: 0.4585 - f1: 0.7588\n",
      "Epoch 00009: val_loss did not improve from 0.59908\n",
      "196/196 [==============================] - 2s 9ms/step - loss: 0.4586 - f1: 0.7587 - val_loss: 0.7167 - val_f1: 0.3526\n",
      "Epoch 10/60\n",
      "190/196 [============================>.] - ETA: 0s - loss: 0.4468 - f1: 0.7679\n",
      "Epoch 00010: val_loss did not improve from 0.59908\n",
      "196/196 [==============================] - 2s 8ms/step - loss: 0.4467 - f1: 0.7688 - val_loss: 0.7558 - val_f1: 0.3745\n",
      "Epoch 11/60\n",
      "195/196 [============================>.] - ETA: 0s - loss: 0.4370 - f1: 0.7768\n",
      "Epoch 00011: val_loss did not improve from 0.59908\n",
      "196/196 [==============================] - 2s 9ms/step - loss: 0.4370 - f1: 0.7771 - val_loss: 0.7184 - val_f1: 0.4111\n",
      "Epoch 12/60\n",
      "195/196 [============================>.] - ETA: 0s - loss: 0.4296 - f1: 0.7860\n",
      "Epoch 00012: val_loss did not improve from 0.59908\n",
      "196/196 [==============================] - 2s 9ms/step - loss: 0.4298 - f1: 0.7859 - val_loss: 0.6697 - val_f1: 0.5371\n",
      "Epoch 13/60\n",
      "195/196 [============================>.] - ETA: 0s - loss: 0.4230 - f1: 0.7968\n",
      "Epoch 00013: val_loss did not improve from 0.59908\n",
      "196/196 [==============================] - 2s 8ms/step - loss: 0.4230 - f1: 0.7967 - val_loss: 0.6680 - val_f1: 0.5962\n",
      "Epoch 14/60\n",
      "196/196 [==============================] - ETA: 0s - loss: 0.4157 - f1: 0.8006\n",
      "Epoch 00014: val_loss did not improve from 0.59908\n",
      "196/196 [==============================] - 2s 9ms/step - loss: 0.4157 - f1: 0.8006 - val_loss: 0.6012 - val_f1: 0.6412\n",
      "Epoch 15/60\n",
      "191/196 [============================>.] - ETA: 0s - loss: 0.4062 - f1: 0.8107\n",
      "Epoch 00015: val_loss improved from 0.59908 to 0.59436, saving model to /content/sample_data/results/checkpoint.hdf5\n",
      "196/196 [==============================] - 2s 8ms/step - loss: 0.4056 - f1: 0.8106 - val_loss: 0.5944 - val_f1: 0.6508\n",
      "Epoch 16/60\n",
      "196/196 [==============================] - ETA: 0s - loss: 0.3985 - f1: 0.8181\n",
      "Epoch 00016: val_loss did not improve from 0.59436\n",
      "196/196 [==============================] - 2s 8ms/step - loss: 0.3985 - f1: 0.8181 - val_loss: 0.6072 - val_f1: 0.6584\n",
      "Epoch 17/60\n",
      "192/196 [============================>.] - ETA: 0s - loss: 0.3930 - f1: 0.8203\n",
      "Epoch 00017: val_loss did not improve from 0.59436\n",
      "196/196 [==============================] - 2s 8ms/step - loss: 0.3934 - f1: 0.8202 - val_loss: 0.6554 - val_f1: 0.6422\n",
      "Epoch 18/60\n",
      "193/196 [============================>.] - ETA: 0s - loss: 0.3879 - f1: 0.8281\n",
      "Epoch 00018: val_loss did not improve from 0.59436\n",
      "196/196 [==============================] - 2s 8ms/step - loss: 0.3878 - f1: 0.8290 - val_loss: 0.6157 - val_f1: 0.7080\n",
      "Epoch 19/60\n",
      "191/196 [============================>.] - ETA: 0s - loss: 0.3788 - f1: 0.8343\n",
      "Epoch 00019: val_loss did not improve from 0.59436\n",
      "196/196 [==============================] - 2s 8ms/step - loss: 0.3789 - f1: 0.8338 - val_loss: 0.6156 - val_f1: 0.6992\n",
      "Epoch 20/60\n",
      "193/196 [============================>.] - ETA: 0s - loss: 0.3711 - f1: 0.8391\n",
      "Epoch 00020: val_loss did not improve from 0.59436\n",
      "196/196 [==============================] - 2s 8ms/step - loss: 0.3712 - f1: 0.8391 - val_loss: 0.6072 - val_f1: 0.6829\n",
      "Epoch 21/60\n",
      "192/196 [============================>.] - ETA: 0s - loss: 0.3696 - f1: 0.8412\n",
      "Epoch 00021: val_loss improved from 0.59436 to 0.53830, saving model to /content/sample_data/results/checkpoint.hdf5\n",
      "196/196 [==============================] - 2s 8ms/step - loss: 0.3696 - f1: 0.8410 - val_loss: 0.5383 - val_f1: 0.8025\n",
      "Epoch 22/60\n",
      "195/196 [============================>.] - ETA: 0s - loss: 0.3640 - f1: 0.8447\n",
      "Epoch 00022: val_loss improved from 0.53830 to 0.50397, saving model to /content/sample_data/results/checkpoint.hdf5\n",
      "196/196 [==============================] - 2s 8ms/step - loss: 0.3639 - f1: 0.8446 - val_loss: 0.5040 - val_f1: 0.8154\n",
      "Epoch 23/60\n",
      "193/196 [============================>.] - ETA: 0s - loss: 0.3562 - f1: 0.8476\n",
      "Epoch 00023: val_loss did not improve from 0.50397\n",
      "196/196 [==============================] - 2s 8ms/step - loss: 0.3563 - f1: 0.8474 - val_loss: 0.5177 - val_f1: 0.8004\n",
      "Epoch 24/60\n",
      "191/196 [============================>.] - ETA: 0s - loss: 0.3482 - f1: 0.8543\n",
      "Epoch 00024: val_loss improved from 0.50397 to 0.49304, saving model to /content/sample_data/results/checkpoint.hdf5\n",
      "196/196 [==============================] - 2s 8ms/step - loss: 0.3484 - f1: 0.8539 - val_loss: 0.4930 - val_f1: 0.8494\n",
      "Epoch 25/60\n",
      "195/196 [============================>.] - ETA: 0s - loss: 0.3400 - f1: 0.8594\n",
      "Epoch 00025: val_loss improved from 0.49304 to 0.48951, saving model to /content/sample_data/results/checkpoint.hdf5\n",
      "196/196 [==============================] - 2s 9ms/step - loss: 0.3400 - f1: 0.8596 - val_loss: 0.4895 - val_f1: 0.8295\n",
      "Epoch 26/60\n",
      "190/196 [============================>.] - ETA: 0s - loss: 0.3402 - f1: 0.8584\n",
      "Epoch 00026: val_loss improved from 0.48951 to 0.45839, saving model to /content/sample_data/results/checkpoint.hdf5\n",
      "196/196 [==============================] - 2s 8ms/step - loss: 0.3402 - f1: 0.8585 - val_loss: 0.4584 - val_f1: 0.8379\n",
      "Epoch 27/60\n",
      "195/196 [============================>.] - ETA: 0s - loss: 0.3350 - f1: 0.8614\n",
      "Epoch 00027: val_loss did not improve from 0.45839\n",
      "196/196 [==============================] - 2s 8ms/step - loss: 0.3350 - f1: 0.8614 - val_loss: 0.5306 - val_f1: 0.8149\n",
      "Epoch 28/60\n",
      "190/196 [============================>.] - ETA: 0s - loss: 0.3245 - f1: 0.8653\n",
      "Epoch 00028: val_loss did not improve from 0.45839\n",
      "196/196 [==============================] - 2s 8ms/step - loss: 0.3252 - f1: 0.8648 - val_loss: 0.5141 - val_f1: 0.8373\n",
      "Epoch 29/60\n",
      "191/196 [============================>.] - ETA: 0s - loss: 0.3253 - f1: 0.8680\n",
      "Epoch 00029: val_loss did not improve from 0.45839\n",
      "196/196 [==============================] - 2s 9ms/step - loss: 0.3259 - f1: 0.8678 - val_loss: 0.4713 - val_f1: 0.8264\n",
      "Epoch 30/60\n",
      "192/196 [============================>.] - ETA: 0s - loss: 0.3219 - f1: 0.8697\n",
      "Epoch 00030: val_loss improved from 0.45839 to 0.45133, saving model to /content/sample_data/results/checkpoint.hdf5\n",
      "196/196 [==============================] - 2s 10ms/step - loss: 0.3216 - f1: 0.8697 - val_loss: 0.4513 - val_f1: 0.8482\n",
      "Epoch 31/60\n",
      "194/196 [============================>.] - ETA: 0s - loss: 0.3118 - f1: 0.8734\n",
      "Epoch 00031: val_loss improved from 0.45133 to 0.44090, saving model to /content/sample_data/results/checkpoint.hdf5\n",
      "196/196 [==============================] - 2s 9ms/step - loss: 0.3120 - f1: 0.8731 - val_loss: 0.4409 - val_f1: 0.8376\n",
      "Epoch 32/60\n",
      "195/196 [============================>.] - ETA: 0s - loss: 0.3168 - f1: 0.8707\n",
      "Epoch 00032: val_loss improved from 0.44090 to 0.40690, saving model to /content/sample_data/results/checkpoint.hdf5\n",
      "196/196 [==============================] - 2s 8ms/step - loss: 0.3168 - f1: 0.8705 - val_loss: 0.4069 - val_f1: 0.8545\n",
      "Epoch 33/60\n",
      "192/196 [============================>.] - ETA: 0s - loss: 0.3140 - f1: 0.8733\n",
      "Epoch 00033: val_loss did not improve from 0.40690\n",
      "196/196 [==============================] - 2s 9ms/step - loss: 0.3137 - f1: 0.8730 - val_loss: 0.4329 - val_f1: 0.8458\n",
      "Epoch 34/60\n",
      "195/196 [============================>.] - ETA: 0s - loss: 0.3110 - f1: 0.8738\n",
      "Epoch 00034: val_loss did not improve from 0.40690\n",
      "196/196 [==============================] - 2s 8ms/step - loss: 0.3110 - f1: 0.8737 - val_loss: 0.4250 - val_f1: 0.8567\n",
      "Epoch 35/60\n",
      "191/196 [============================>.] - ETA: 0s - loss: 0.3028 - f1: 0.8797\n",
      "Epoch 00035: val_loss did not improve from 0.40690\n",
      "196/196 [==============================] - 2s 10ms/step - loss: 0.3026 - f1: 0.8795 - val_loss: 0.4165 - val_f1: 0.8226\n",
      "Epoch 36/60\n",
      "192/196 [============================>.] - ETA: 0s - loss: 0.2982 - f1: 0.8820\n",
      "Epoch 00036: val_loss did not improve from 0.40690\n",
      "196/196 [==============================] - 2s 9ms/step - loss: 0.2979 - f1: 0.8822 - val_loss: 0.4222 - val_f1: 0.8559\n",
      "Epoch 37/60\n",
      "194/196 [============================>.] - ETA: 0s - loss: 0.2972 - f1: 0.8825\n",
      "Epoch 00037: val_loss improved from 0.40690 to 0.39300, saving model to /content/sample_data/results/checkpoint.hdf5\n",
      "196/196 [==============================] - 2s 8ms/step - loss: 0.2970 - f1: 0.8829 - val_loss: 0.3930 - val_f1: 0.8445\n",
      "Epoch 38/60\n",
      "192/196 [============================>.] - ETA: 0s - loss: 0.2920 - f1: 0.8839\n",
      "Epoch 00038: val_loss did not improve from 0.39300\n",
      "196/196 [==============================] - 2s 8ms/step - loss: 0.2919 - f1: 0.8844 - val_loss: 0.4057 - val_f1: 0.8440\n",
      "Epoch 39/60\n",
      "193/196 [============================>.] - ETA: 0s - loss: 0.2835 - f1: 0.8894\n",
      "Epoch 00039: val_loss did not improve from 0.39300\n",
      "196/196 [==============================] - 2s 8ms/step - loss: 0.2837 - f1: 0.8890 - val_loss: 0.4119 - val_f1: 0.7296\n",
      "Epoch 40/60\n",
      "195/196 [============================>.] - ETA: 0s - loss: 0.2836 - f1: 0.8900\n",
      "Epoch 00040: val_loss did not improve from 0.39300\n",
      "196/196 [==============================] - 2s 8ms/step - loss: 0.2836 - f1: 0.8903 - val_loss: 0.4065 - val_f1: 0.7304\n",
      "Epoch 41/60\n",
      "196/196 [==============================] - ETA: 0s - loss: 0.2764 - f1: 0.8936\n",
      "Epoch 00041: val_loss improved from 0.39300 to 0.35727, saving model to /content/sample_data/results/checkpoint.hdf5\n",
      "196/196 [==============================] - 2s 10ms/step - loss: 0.2764 - f1: 0.8936 - val_loss: 0.3573 - val_f1: 0.8604\n",
      "Epoch 42/60\n",
      "193/196 [============================>.] - ETA: 0s - loss: 0.2775 - f1: 0.8920\n",
      "Epoch 00042: val_loss did not improve from 0.35727\n",
      "196/196 [==============================] - 2s 9ms/step - loss: 0.2779 - f1: 0.8912 - val_loss: 0.3850 - val_f1: 0.8505\n",
      "Epoch 43/60\n",
      "190/196 [============================>.] - ETA: 0s - loss: 0.2744 - f1: 0.8959\n",
      "Epoch 00043: val_loss did not improve from 0.35727\n",
      "196/196 [==============================] - 2s 8ms/step - loss: 0.2733 - f1: 0.8964 - val_loss: 0.3630 - val_f1: 0.8628\n",
      "Epoch 44/60\n",
      "191/196 [============================>.] - ETA: 0s - loss: 0.2680 - f1: 0.8978\n",
      "Epoch 00044: val_loss improved from 0.35727 to 0.35521, saving model to /content/sample_data/results/checkpoint.hdf5\n",
      "196/196 [==============================] - 2s 8ms/step - loss: 0.2681 - f1: 0.8972 - val_loss: 0.3552 - val_f1: 0.8630\n",
      "Epoch 45/60\n",
      "195/196 [============================>.] - ETA: 0s - loss: 0.2698 - f1: 0.8957\n",
      "Epoch 00045: val_loss did not improve from 0.35521\n",
      "196/196 [==============================] - 2s 8ms/step - loss: 0.2699 - f1: 0.8958 - val_loss: 0.3584 - val_f1: 0.8621\n",
      "Epoch 46/60\n",
      "195/196 [============================>.] - ETA: 0s - loss: 0.2601 - f1: 0.9011\n",
      "Epoch 00046: val_loss did not improve from 0.35521\n",
      "196/196 [==============================] - 2s 8ms/step - loss: 0.2602 - f1: 0.9007 - val_loss: 0.3557 - val_f1: 0.8599\n",
      "Epoch 47/60\n",
      "190/196 [============================>.] - ETA: 0s - loss: 0.2576 - f1: 0.9035\n",
      "Epoch 00047: val_loss did not improve from 0.35521\n",
      "196/196 [==============================] - 2s 8ms/step - loss: 0.2578 - f1: 0.9035 - val_loss: 0.3742 - val_f1: 0.8485\n",
      "Epoch 48/60\n",
      "195/196 [============================>.] - ETA: 0s - loss: 0.2539 - f1: 0.9039\n",
      "Epoch 00048: val_loss did not improve from 0.35521\n",
      "196/196 [==============================] - 2s 8ms/step - loss: 0.2540 - f1: 0.9037 - val_loss: 0.3787 - val_f1: 0.8354\n",
      "Epoch 49/60\n",
      "196/196 [==============================] - ETA: 0s - loss: 0.2606 - f1: 0.8991\n",
      "Epoch 00049: val_loss did not improve from 0.35521\n",
      "196/196 [==============================] - 2s 8ms/step - loss: 0.2606 - f1: 0.8991 - val_loss: 0.3723 - val_f1: 0.8609\n",
      "Epoch 50/60\n",
      "192/196 [============================>.] - ETA: 0s - loss: 0.2589 - f1: 0.8994\n",
      "Epoch 00050: val_loss improved from 0.35521 to 0.35323, saving model to /content/sample_data/results/checkpoint.hdf5\n",
      "196/196 [==============================] - 2s 8ms/step - loss: 0.2586 - f1: 0.8996 - val_loss: 0.3532 - val_f1: 0.8644\n",
      "Epoch 51/60\n",
      "196/196 [==============================] - ETA: 0s - loss: 0.2587 - f1: 0.9020\n",
      "Epoch 00051: val_loss did not improve from 0.35323\n",
      "196/196 [==============================] - 2s 8ms/step - loss: 0.2587 - f1: 0.9020 - val_loss: 0.3878 - val_f1: 0.8342\n",
      "Epoch 52/60\n",
      "194/196 [============================>.] - ETA: 0s - loss: 0.2491 - f1: 0.9060\n",
      "Epoch 00052: val_loss improved from 0.35323 to 0.34837, saving model to /content/sample_data/results/checkpoint.hdf5\n",
      "196/196 [==============================] - 2s 8ms/step - loss: 0.2489 - f1: 0.9064 - val_loss: 0.3484 - val_f1: 0.8650\n",
      "Epoch 53/60\n",
      "194/196 [============================>.] - ETA: 0s - loss: 0.2548 - f1: 0.9033\n",
      "Epoch 00053: val_loss did not improve from 0.34837\n",
      "196/196 [==============================] - 2s 8ms/step - loss: 0.2552 - f1: 0.9026 - val_loss: 0.3509 - val_f1: 0.8648\n",
      "Epoch 54/60\n",
      "195/196 [============================>.] - ETA: 0s - loss: 0.2535 - f1: 0.9051\n",
      "Epoch 00054: val_loss improved from 0.34837 to 0.32399, saving model to /content/sample_data/results/checkpoint.hdf5\n",
      "196/196 [==============================] - 2s 9ms/step - loss: 0.2534 - f1: 0.9050 - val_loss: 0.3240 - val_f1: 0.8660\n",
      "Epoch 55/60\n",
      "194/196 [============================>.] - ETA: 0s - loss: 0.2489 - f1: 0.9068\n",
      "Epoch 00055: val_loss did not improve from 0.32399\n",
      "196/196 [==============================] - 2s 10ms/step - loss: 0.2487 - f1: 0.9069 - val_loss: 0.3539 - val_f1: 0.8672\n",
      "Epoch 56/60\n",
      "196/196 [==============================] - ETA: 0s - loss: 0.2510 - f1: 0.9042\n",
      "Epoch 00056: val_loss did not improve from 0.32399\n",
      "196/196 [==============================] - 2s 8ms/step - loss: 0.2510 - f1: 0.9042 - val_loss: 0.3384 - val_f1: 0.8652\n",
      "Epoch 57/60\n",
      "195/196 [============================>.] - ETA: 0s - loss: 0.2437 - f1: 0.9103\n",
      "Epoch 00057: val_loss did not improve from 0.32399\n",
      "196/196 [==============================] - 2s 8ms/step - loss: 0.2437 - f1: 0.9103 - val_loss: 0.3400 - val_f1: 0.8630\n",
      "Epoch 58/60\n",
      "195/196 [============================>.] - ETA: 0s - loss: 0.2367 - f1: 0.9139\n",
      "Epoch 00058: val_loss did not improve from 0.32399\n",
      "196/196 [==============================] - 2s 8ms/step - loss: 0.2367 - f1: 0.9141 - val_loss: 0.3622 - val_f1: 0.8554\n",
      "Epoch 59/60\n",
      "193/196 [============================>.] - ETA: 0s - loss: 0.2406 - f1: 0.9105\n",
      "Epoch 00059: val_loss did not improve from 0.32399\n",
      "196/196 [==============================] - 2s 9ms/step - loss: 0.2406 - f1: 0.9103 - val_loss: 0.3680 - val_f1: 0.8489\n",
      "Epoch 60/60\n",
      "189/196 [===========================>..] - ETA: 0s - loss: 0.2348 - f1: 0.9136\n",
      "Epoch 00060: val_loss did not improve from 0.32399\n",
      "196/196 [==============================] - 2s 8ms/step - loss: 0.2358 - f1: 0.9126 - val_loss: 0.3825 - val_f1: 0.8204\n",
      "Test score: 0.382480263710022\n",
      "Test accuracy: 0.8202524781227112\n",
      "the total time : 111.6952474117279\n"
     ]
    },
    {
     "data": {
      "image/png": "[encoded data removed]",
      "text/plain": [
       "<Figure size 432x288 with 1 Axes>"
      ]
     },
     "metadata": {
      "tags": []
     },
     "output_type": "display_data"
    }
   ],
   "source": [
    "import tensorflow as tf\n",
    "\n",
    "import os\n",
    "import tensorflow_datasets as tfds\n",
    "\n",
    "from tensorflow.keras.layers import Activation, Dropout, Dense, Conv2D, Flatten, Dropout, MaxPooling2D, BatchNormalization\n",
    "from keras.utils import np_utils\n",
    "import time\n",
    "import tensorflow as tf\n",
    "\n",
    "def plt_dynamic(x, vy, ty, ax, colors=['b']):\n",
    "    \"\"\"plot x wrt vy and x wrt ty\"\"\"\n",
    "    ax.plot(x, vy, 'r', linestyle=\"solid\", label=\"Validation Loss\")\n",
    "    ax.plot(x, ty, 'b', linestyle=\"dashed\",label=\"Train Loss\")\n",
    "    plt.legend()\n",
    "    plt.grid()\n",
    "    fig.canvas.draw()\n",
    "    plt.show()\n",
    "\n",
    "tr_x,tr_y,te_x,te_y=X_tr, y_tr, X_test, y_test\n",
    "\n",
    "categorical_values=2 #this means the total labels we have so 2 because pos and neg\n",
    "te_y=np_utils.to_categorical(te_y, categorical_values) \n",
    "tr_y=np_utils.to_categorical(tr_y, categorical_values) \n",
    "print(tr_x.shape,tr_y.shape,te_x.shape,te_y.shape)\n",
    "\n",
    "#assign class weights for one hot encoded classes\n",
    "import numpy as np\n",
    "from sklearn.utils.class_weight import compute_class_weight\n",
    "\n",
    "y_integers = np.argmax(tr_y, axis=1)\n",
    "class_weights = compute_class_weight('balanced', np.unique(y_integers), y_integers)\n",
    "d_class_weights = dict(enumerate(class_weights))\n",
    "\n",
    "print(d_class_weights)\n",
    "\n",
    "#only softmax classifier\n",
    "\n",
    "#some model parameters \n",
    "output_dim = tr_y.shape[1] #this is class labels 2\n",
    "input_dim = tr_x.shape[1] #this is basically 300\n",
    "\n",
    "\n",
    "batch_size = 256\n",
    "num_nodes_in_between=15-2 #this means layers\n",
    "nb_epoch=60\n",
    "batch_norm_after_layer=2\n",
    "print(\"total size of the network is {} layers\".format(num_nodes_in_between+2))\n",
    "\n",
    "#with strategy.scope():\n",
    "start=time.time()\n",
    "\n",
    "model_best = tf.keras.models.Sequential()\n",
    "\n",
    "#add layer 1 \n",
    "model_best.add(Dense(100, activation='relu', input_shape=(input_dim,)))\n",
    "model_best.add(Dropout(0.33))\n",
    "#model_best.add(BatchNormalization())\n",
    "\n",
    "#add subsequent layers \n",
    "\n",
    "for i in range(1,num_nodes_in_between+1):\n",
    "    model_best.add(Dense(100, activation='relu'))\n",
    "    model_best.add(Dropout(0.33))\n",
    "    if(i%batch_norm_after_layer==0):\n",
    "        model_best.add(BatchNormalization())\n",
    "        \n",
    "#add final softmax layer\n",
    "model_best.add(Dense(output_dim, activation='softmax'))\n",
    "model_best.summary()\n",
    "\n",
    "#compile the model\n",
    "model_best.compile(optimizer='adam', loss='categorical_crossentropy', metrics=[f1])\n",
    "\n",
    "#checkpoint the model\n",
    "checkpoint = tf.keras.callbacks.ModelCheckpoint(filepath=\"checkpoint.hdf5\", monitor='val_loss', save_best_only=True, mode='min', verbose=1)\n",
    "callbacks_list = [checkpoint]\n",
    "\n",
    "#fit the model\n",
    "history = model_best.fit(tr_x, tr_y, batch_size=batch_size, epochs=nb_epoch, validation_data=(te_x, te_y),callbacks=callbacks_list) \n",
    "score = model_best.evaluate(te_x, te_y, verbose=0) \n",
    "print('Test score:', score[0]) \n",
    "print('Test accuracy:', score[1])\n",
    "\n",
    "end=time.time()\n",
    "print(\"the total time :\",end-start)\n",
    "\n",
    "import matplotlib.pyplot as plt\n",
    "#get the plots\n",
    "fig,ax = plt.subplots(1,1)\n",
    "ax.set_xlabel('epoch') ; ax.set_ylabel('Categorical Crossentropy Loss')\n",
    "\n",
    "# list of epoch numbers\n",
    "x = list(range(1,nb_epoch+1))\n",
    "\n",
    "vy = history.history['val_loss'] #validation means this is the test loss \n",
    "ty = history.history['loss'] #this is the train loss\n",
    "\n",
    "plt_dynamic(x, vy, ty, ax)"
   ]
  }
 ],
 "metadata": {
  "accelerator": "GPU",
  "colab": {
   "collapsed_sections": [
    "r2ARjR9219uO"
   ],
   "name": "sentiment analysis for Cit-3.ipynb",
   "provenance": [],
   "toc_visible": true
  },
  "environment": {
   "name": "common-cpu.m48",
   "type": "gcloud",
   "uri": "gcr.io/deeplearning-platform-release/base-cpu:m48"
  },
  "kernelspec": {
   "display_name": "Python 3",
   "language": "python",
   "name": "python3"
  },
  "language_info": {
   "codemirror_mode": {
    "name": "ipython",
    "version": 3
   },
   "file_extension": ".py",
   "mimetype": "text/x-python",
   "name": "python",
   "nbconvert_exporter": "python",
   "pygments_lexer": "ipython3",
   "version": "3.7.4"
  }
 },
 "nbformat": 4,
 "nbformat_minor": 1
}
